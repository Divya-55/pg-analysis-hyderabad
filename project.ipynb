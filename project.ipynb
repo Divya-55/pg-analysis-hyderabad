{
 "cells": [
  {
   "cell_type": "code",
   "execution_count": 915,
   "id": "538475d2-20eb-4a49-95f1-bc6e5e80c93d",
   "metadata": {},
   "outputs": [],
   "source": [
    "import pandas as pd\n",
    "import numpy as np\n",
    "import re\n",
    "from datetime import datetime, timedelta"
   ]
  },
  {
   "cell_type": "code",
   "execution_count": 916,
   "id": "59cb564d-6ecf-4153-bc80-ec5d42ed7619",
   "metadata": {},
   "outputs": [],
   "source": [
    "df = pd.read_csv(\"pg_data.csv\", encoding='cp1252')"
   ]
  },
  {
   "cell_type": "code",
   "execution_count": 917,
   "id": "c3cf3cd7-cef8-40fc-9597-3e4cd5a000ca",
   "metadata": {},
   "outputs": [
    {
     "data": {
      "text/html": [
       "<div>\n",
       "<style scoped>\n",
       "    .dataframe tbody tr th:only-of-type {\n",
       "        vertical-align: middle;\n",
       "    }\n",
       "\n",
       "    .dataframe tbody tr th {\n",
       "        vertical-align: top;\n",
       "    }\n",
       "\n",
       "    .dataframe thead th {\n",
       "        text-align: right;\n",
       "    }\n",
       "</style>\n",
       "<table border=\"1\" class=\"dataframe\">\n",
       "  <thead>\n",
       "    <tr style=\"text-align: right;\">\n",
       "      <th></th>\n",
       "      <th>Unnamed: 0</th>\n",
       "      <th>pg_name</th>\n",
       "      <th>location</th>\n",
       "      <th>source_url</th>\n",
       "      <th>sharing_details</th>\n",
       "      <th>room_amenities</th>\n",
       "      <th>common_amenities</th>\n",
       "      <th>food_facility</th>\n",
       "      <th>available_from</th>\n",
       "      <th>posted_on</th>\n",
       "      <th>gate_closing_time</th>\n",
       "      <th>parking</th>\n",
       "    </tr>\n",
       "  </thead>\n",
       "  <tbody>\n",
       "    <tr>\n",
       "      <th>0</th>\n",
       "      <td>0</td>\n",
       "      <td>PG for Girls in Madhapur</td>\n",
       "      <td>Madhapur</td>\n",
       "      <td>https://www.nobroker.in/property/pg/pg-hostel-...</td>\n",
       "      <td>Rent for four Occupancy\\nâ‚¹ 7,500/M\\nSecurity...</td>\n",
       "      <td>Bed, Cupboard, Attached bathroom, Geaser, Tabl...</td>\n",
       "      <td>CCTV, Wifi, Power backup, Washing Machine, RO ...</td>\n",
       "      <td>All Meals</td>\n",
       "      <td>Aug 1, 2025</td>\n",
       "      <td>Jul 1, 2025</td>\n",
       "      <td>Not Provided</td>\n",
       "      <td>Bike</td>\n",
       "    </tr>\n",
       "    <tr>\n",
       "      <th>1</th>\n",
       "      <td>1</td>\n",
       "      <td>PG for Boys in Madhapur</td>\n",
       "      <td>Madhapur</td>\n",
       "      <td>https://www.nobroker.in/property/pg/pg-hostel-...</td>\n",
       "      <td>Rent for double Occupancy\\nâ‚¹ 9,000/M\\nSecuri...</td>\n",
       "      <td>Bed with mattress, Cupboard, Fan, Light/Chargi...</td>\n",
       "      <td>Food (Andhra hygiene meals), WiFi, TV, Power b...</td>\n",
       "      <td>All Meals</td>\n",
       "      <td>Aug 1, 2025</td>\n",
       "      <td>Jun 29, 2025</td>\n",
       "      <td>Not Provided</td>\n",
       "      <td>Bike and Car</td>\n",
       "    </tr>\n",
       "    <tr>\n",
       "      <th>2</th>\n",
       "      <td>2</td>\n",
       "      <td>PG for Boys in Madhapur</td>\n",
       "      <td>Madhapur</td>\n",
       "      <td>https://www.nobroker.in/property/pg/pg-hostel-...</td>\n",
       "      <td>Rent for three Occupancy\\nâ‚¹ 8,500/M\\nSecurit...</td>\n",
       "      <td>Attached bathroom, Geaser, Bedding</td>\n",
       "      <td>Food (Andhra hygiene meals), WiFi, TV, Power b...</td>\n",
       "      <td>All Meals</td>\n",
       "      <td>Aug 1, 2025</td>\n",
       "      <td>Jul 3, 2025</td>\n",
       "      <td>Not Provided</td>\n",
       "      <td>Bike</td>\n",
       "    </tr>\n",
       "    <tr>\n",
       "      <th>3</th>\n",
       "      <td>3</td>\n",
       "      <td>PG for Girls in Madhapur</td>\n",
       "      <td>Madhapur</td>\n",
       "      <td>https://www.nobroker.in/property/pg/pg-hostel-...</td>\n",
       "      <td>Rent for four Occupancy\\nâ‚¹ 8,000/M\\nSecurity...</td>\n",
       "      <td>Bed with mattress, Cupboard, Fan, Light, Attac...</td>\n",
       "      <td>Food, WiFi, TV, Washing Machine, Power Backup,...</td>\n",
       "      <td>All Meals</td>\n",
       "      <td>Immediately</td>\n",
       "      <td>Jul 1, 2025</td>\n",
       "      <td>Not Provided</td>\n",
       "      <td>Bike</td>\n",
       "    </tr>\n",
       "    <tr>\n",
       "      <th>4</th>\n",
       "      <td>4</td>\n",
       "      <td>PG for Anyone in Madhapur</td>\n",
       "      <td>Madhapur</td>\n",
       "      <td>https://www.nobroker.in/property/pg/pg-hostel-...</td>\n",
       "      <td>Rent for three Occupancy\\nâ‚¹ 9,000/M\\nSecurit...</td>\n",
       "      <td>Bed with mattress, Fan, Light, Attached Bathro...</td>\n",
       "      <td>Food, WiFi, TV, Power Backup, Washing Machine,...</td>\n",
       "      <td>All Meals</td>\n",
       "      <td>Immediately</td>\n",
       "      <td>Jul 1, 2025</td>\n",
       "      <td>Not Provided</td>\n",
       "      <td>Bike</td>\n",
       "    </tr>\n",
       "  </tbody>\n",
       "</table>\n",
       "</div>"
      ],
      "text/plain": [
       "   Unnamed: 0                    pg_name  location  \\\n",
       "0           0   PG for Girls in Madhapur  Madhapur   \n",
       "1           1    PG for Boys in Madhapur  Madhapur   \n",
       "2           2    PG for Boys in Madhapur  Madhapur   \n",
       "3           3   PG for Girls in Madhapur  Madhapur   \n",
       "4           4  PG for Anyone in Madhapur  Madhapur   \n",
       "\n",
       "                                          source_url  \\\n",
       "0  https://www.nobroker.in/property/pg/pg-hostel-...   \n",
       "1  https://www.nobroker.in/property/pg/pg-hostel-...   \n",
       "2  https://www.nobroker.in/property/pg/pg-hostel-...   \n",
       "3  https://www.nobroker.in/property/pg/pg-hostel-...   \n",
       "4  https://www.nobroker.in/property/pg/pg-hostel-...   \n",
       "\n",
       "                                     sharing_details  \\\n",
       "0  Rent for four Occupancy\\nâ‚¹ 7,500/M\\nSecurity...   \n",
       "1  Rent for double Occupancy\\nâ‚¹ 9,000/M\\nSecuri...   \n",
       "2  Rent for three Occupancy\\nâ‚¹ 8,500/M\\nSecurit...   \n",
       "3  Rent for four Occupancy\\nâ‚¹ 8,000/M\\nSecurity...   \n",
       "4  Rent for three Occupancy\\nâ‚¹ 9,000/M\\nSecurit...   \n",
       "\n",
       "                                      room_amenities  \\\n",
       "0  Bed, Cupboard, Attached bathroom, Geaser, Tabl...   \n",
       "1  Bed with mattress, Cupboard, Fan, Light/Chargi...   \n",
       "2                 Attached bathroom, Geaser, Bedding   \n",
       "3  Bed with mattress, Cupboard, Fan, Light, Attac...   \n",
       "4  Bed with mattress, Fan, Light, Attached Bathro...   \n",
       "\n",
       "                                    common_amenities food_facility  \\\n",
       "0  CCTV, Wifi, Power backup, Washing Machine, RO ...     All Meals   \n",
       "1  Food (Andhra hygiene meals), WiFi, TV, Power b...     All Meals   \n",
       "2  Food (Andhra hygiene meals), WiFi, TV, Power b...     All Meals   \n",
       "3  Food, WiFi, TV, Washing Machine, Power Backup,...     All Meals   \n",
       "4  Food, WiFi, TV, Power Backup, Washing Machine,...     All Meals   \n",
       "\n",
       "  available_from     posted_on gate_closing_time       parking  \n",
       "0    Aug 1, 2025   Jul 1, 2025      Not Provided          Bike  \n",
       "1    Aug 1, 2025  Jun 29, 2025      Not Provided  Bike and Car  \n",
       "2    Aug 1, 2025   Jul 3, 2025      Not Provided          Bike  \n",
       "3    Immediately   Jul 1, 2025      Not Provided          Bike  \n",
       "4    Immediately   Jul 1, 2025      Not Provided          Bike  "
      ]
     },
     "execution_count": 917,
     "metadata": {},
     "output_type": "execute_result"
    }
   ],
   "source": [
    "df.head()"
   ]
  },
  {
   "cell_type": "code",
   "execution_count": 918,
   "id": "e36be264-0831-4116-b12c-753daa6d07a8",
   "metadata": {},
   "outputs": [
    {
     "name": "stdout",
     "output_type": "stream",
     "text": [
      "<class 'pandas.core.frame.DataFrame'>\n",
      "RangeIndex: 333 entries, 0 to 332\n",
      "Data columns (total 12 columns):\n",
      " #   Column             Non-Null Count  Dtype \n",
      "---  ------             --------------  ----- \n",
      " 0   Unnamed: 0         333 non-null    int64 \n",
      " 1   pg_name            333 non-null    object\n",
      " 2   location           333 non-null    object\n",
      " 3   source_url         333 non-null    object\n",
      " 4   sharing_details    333 non-null    object\n",
      " 5   room_amenities     333 non-null    object\n",
      " 6   common_amenities   333 non-null    object\n",
      " 7   food_facility      333 non-null    object\n",
      " 8   available_from     333 non-null    object\n",
      " 9   posted_on          333 non-null    object\n",
      " 10  gate_closing_time  333 non-null    object\n",
      " 11  parking            321 non-null    object\n",
      "dtypes: int64(1), object(11)\n",
      "memory usage: 31.3+ KB\n"
     ]
    }
   ],
   "source": [
    "df.info()"
   ]
  },
  {
   "cell_type": "code",
   "execution_count": 919,
   "id": "1847c2c8-a7fa-4f07-b1f4-cb3bc3183733",
   "metadata": {},
   "outputs": [
    {
     "data": {
      "text/plain": [
       "Index(['Unnamed: 0', 'pg_name', 'location', 'source_url', 'sharing_details',\n",
       "       'room_amenities', 'common_amenities', 'food_facility', 'available_from',\n",
       "       'posted_on', 'gate_closing_time', 'parking'],\n",
       "      dtype='object')"
      ]
     },
     "execution_count": 919,
     "metadata": {},
     "output_type": "execute_result"
    }
   ],
   "source": [
    "df.columns"
   ]
  },
  {
   "cell_type": "code",
   "execution_count": 920,
   "id": "4de82194-82bc-4751-885b-19555f0509cc",
   "metadata": {},
   "outputs": [],
   "source": [
    "# Step 1: Remove the Unnamed: 0 Column"
   ]
  },
  {
   "cell_type": "code",
   "execution_count": 921,
   "id": "4c194b43-d4da-47db-8280-03b91a2910c3",
   "metadata": {},
   "outputs": [],
   "source": [
    "df.drop(columns=['Unnamed: 0'], inplace=True)"
   ]
  },
  {
   "cell_type": "code",
   "execution_count": 922,
   "id": "a50673fd-891c-46dd-b0b0-7b10dffd3e2f",
   "metadata": {},
   "outputs": [
    {
     "name": "stdout",
     "output_type": "stream",
     "text": [
      "<class 'pandas.core.frame.DataFrame'>\n",
      "RangeIndex: 333 entries, 0 to 332\n",
      "Data columns (total 11 columns):\n",
      " #   Column             Non-Null Count  Dtype \n",
      "---  ------             --------------  ----- \n",
      " 0   pg_name            333 non-null    object\n",
      " 1   location           333 non-null    object\n",
      " 2   source_url         333 non-null    object\n",
      " 3   sharing_details    333 non-null    object\n",
      " 4   room_amenities     333 non-null    object\n",
      " 5   common_amenities   333 non-null    object\n",
      " 6   food_facility      333 non-null    object\n",
      " 7   available_from     333 non-null    object\n",
      " 8   posted_on          333 non-null    object\n",
      " 9   gate_closing_time  333 non-null    object\n",
      " 10  parking            321 non-null    object\n",
      "dtypes: object(11)\n",
      "memory usage: 28.7+ KB\n"
     ]
    }
   ],
   "source": [
    "df.info()"
   ]
  },
  {
   "cell_type": "code",
   "execution_count": 923,
   "id": "051d19a0-103a-4c79-b277-6ff79bad668b",
   "metadata": {},
   "outputs": [],
   "source": [
    "# Step 2: Extract share type, Rent and Occupancy Type"
   ]
  },
  {
   "cell_type": "code",
   "execution_count": 924,
   "id": "f33c3690-5b7b-4cf4-949e-2d051882d1ef",
   "metadata": {},
   "outputs": [
    {
     "name": "stdout",
     "output_type": "stream",
     "text": [
      "<class 'pandas.core.frame.DataFrame'>\n",
      "RangeIndex: 333 entries, 0 to 332\n",
      "Data columns (total 12 columns):\n",
      " #   Column             Non-Null Count  Dtype \n",
      "---  ------             --------------  ----- \n",
      " 0   pg_name            333 non-null    object\n",
      " 1   location           333 non-null    object\n",
      " 2   source_url         333 non-null    object\n",
      " 3   sharing_details    333 non-null    object\n",
      " 4   room_amenities     333 non-null    object\n",
      " 5   common_amenities   333 non-null    object\n",
      " 6   food_facility      333 non-null    object\n",
      " 7   available_from     333 non-null    object\n",
      " 8   posted_on          333 non-null    object\n",
      " 9   gate_closing_time  333 non-null    object\n",
      " 10  parking            321 non-null    object\n",
      " 11  occupancy          333 non-null    object\n",
      "dtypes: object(12)\n",
      "memory usage: 31.3+ KB\n"
     ]
    }
   ],
   "source": [
    "occupancy_list = df['sharing_details'].apply(\n",
    "                    lambda text: re.findall(r'Rent for (\\w+) Occupancy', text)[0] if re.findall(r'Rent for (\\w+) Occupancy', text) else None\n",
    "                    ).tolist()\n",
    "df['occupancy'] = occupancy_list\n",
    "df.info()"
   ]
  },
  {
   "cell_type": "code",
   "execution_count": 925,
   "id": "63921524-0898-46a0-bd42-7f6726fc70e9",
   "metadata": {},
   "outputs": [
    {
     "name": "stdout",
     "output_type": "stream",
     "text": [
      "<class 'pandas.core.frame.DataFrame'>\n",
      "RangeIndex: 333 entries, 0 to 332\n",
      "Data columns (total 13 columns):\n",
      " #   Column             Non-Null Count  Dtype \n",
      "---  ------             --------------  ----- \n",
      " 0   pg_name            333 non-null    object\n",
      " 1   location           333 non-null    object\n",
      " 2   source_url         333 non-null    object\n",
      " 3   sharing_details    333 non-null    object\n",
      " 4   room_amenities     333 non-null    object\n",
      " 5   common_amenities   333 non-null    object\n",
      " 6   food_facility      333 non-null    object\n",
      " 7   available_from     333 non-null    object\n",
      " 8   posted_on          333 non-null    object\n",
      " 9   gate_closing_time  333 non-null    object\n",
      " 10  parking            321 non-null    object\n",
      " 11  occupancy          333 non-null    object\n",
      " 12  rent               333 non-null    int64 \n",
      "dtypes: int64(1), object(12)\n",
      "memory usage: 33.9+ KB\n"
     ]
    }
   ],
   "source": [
    "rent_list = df['sharing_details'].apply(\n",
    "                lambda text: re.findall(r'(\\d{1,3}(?:,\\d{3})*)/M', text)\n",
    "            ).apply(\n",
    "                lambda lst: int(lst[0].replace(',', '')) if lst else None\n",
    "            ).tolist()\n",
    "df['rent'] = rent_list\n",
    "df.info()"
   ]
  },
  {
   "cell_type": "code",
   "execution_count": 926,
   "id": "bcb64fe0-7896-47e5-a0ce-ff53e4c3aa22",
   "metadata": {},
   "outputs": [
    {
     "data": {
      "text/plain": [
       "['Rent for four Occupancy\\nâ‚¹ 7,500/M\\nSecurity Deposit\\nâ‚¹ 2,000',\n",
       " 'Rent for double Occupancy\\nâ‚¹ 9,000/M\\nSecurity Deposit\\nâ‚¹ 9,000',\n",
       " 'Rent for three Occupancy\\nâ‚¹ 8,500/M\\nSecurity Deposit\\nâ‚¹ 2,000',\n",
       " 'Rent for four Occupancy\\nâ‚¹ 8,000/M\\nSecurity Deposit\\nâ‚¹ 8,000',\n",
       " 'Rent for three Occupancy\\nâ‚¹ 9,000/M\\nSecurity Deposit\\nâ‚¹ 3,000']"
      ]
     },
     "execution_count": 926,
     "metadata": {},
     "output_type": "execute_result"
    }
   ],
   "source": [
    "# Look at first few values\n",
    "df['sharing_details'].head(5).tolist()\n"
   ]
  },
  {
   "cell_type": "code",
   "execution_count": 927,
   "id": "b8bbdc29-a110-40ac-b50b-2bc5d51fb070",
   "metadata": {},
   "outputs": [
    {
     "name": "stdout",
     "output_type": "stream",
     "text": [
      "<class 'pandas.core.frame.DataFrame'>\n",
      "RangeIndex: 333 entries, 0 to 332\n",
      "Data columns (total 14 columns):\n",
      " #   Column             Non-Null Count  Dtype \n",
      "---  ------             --------------  ----- \n",
      " 0   pg_name            333 non-null    object\n",
      " 1   location           333 non-null    object\n",
      " 2   source_url         333 non-null    object\n",
      " 3   sharing_details    333 non-null    object\n",
      " 4   room_amenities     333 non-null    object\n",
      " 5   common_amenities   333 non-null    object\n",
      " 6   food_facility      333 non-null    object\n",
      " 7   available_from     333 non-null    object\n",
      " 8   posted_on          333 non-null    object\n",
      " 9   gate_closing_time  333 non-null    object\n",
      " 10  parking            321 non-null    object\n",
      " 11  occupancy          333 non-null    object\n",
      " 12  rent               333 non-null    int64 \n",
      " 13  deposit            333 non-null    int64 \n",
      "dtypes: int64(2), object(12)\n",
      "memory usage: 36.6+ KB\n"
     ]
    }
   ],
   "source": [
    "deposit_list = df['sharing_details'].apply(\n",
    "                    lambda text: re.findall(r'Security Deposit[\\s\\S]*?(\\d{1,3}(?:,\\d{3})*)', text)\n",
    "                ).apply(\n",
    "                    lambda lst: int(lst[0].replace(',', '')) if lst else None\n",
    "                ).tolist()\n",
    "\n",
    "df['deposit'] = deposit_list\n",
    "df.info()"
   ]
  },
  {
   "cell_type": "code",
   "execution_count": 928,
   "id": "f97e63fd-2f26-44ee-8c47-73e046102483",
   "metadata": {},
   "outputs": [
    {
     "data": {
      "text/html": [
       "<div>\n",
       "<style scoped>\n",
       "    .dataframe tbody tr th:only-of-type {\n",
       "        vertical-align: middle;\n",
       "    }\n",
       "\n",
       "    .dataframe tbody tr th {\n",
       "        vertical-align: top;\n",
       "    }\n",
       "\n",
       "    .dataframe thead th {\n",
       "        text-align: right;\n",
       "    }\n",
       "</style>\n",
       "<table border=\"1\" class=\"dataframe\">\n",
       "  <thead>\n",
       "    <tr style=\"text-align: right;\">\n",
       "      <th></th>\n",
       "      <th>sharing_details</th>\n",
       "      <th>occupancy</th>\n",
       "      <th>rent</th>\n",
       "      <th>deposit</th>\n",
       "    </tr>\n",
       "  </thead>\n",
       "  <tbody>\n",
       "    <tr>\n",
       "      <th>0</th>\n",
       "      <td>Rent for four Occupancy\\nâ‚¹ 7,500/M\\nSecurity...</td>\n",
       "      <td>four</td>\n",
       "      <td>7500</td>\n",
       "      <td>2000</td>\n",
       "    </tr>\n",
       "    <tr>\n",
       "      <th>1</th>\n",
       "      <td>Rent for double Occupancy\\nâ‚¹ 9,000/M\\nSecuri...</td>\n",
       "      <td>double</td>\n",
       "      <td>9000</td>\n",
       "      <td>9000</td>\n",
       "    </tr>\n",
       "    <tr>\n",
       "      <th>2</th>\n",
       "      <td>Rent for three Occupancy\\nâ‚¹ 8,500/M\\nSecurit...</td>\n",
       "      <td>three</td>\n",
       "      <td>8500</td>\n",
       "      <td>2000</td>\n",
       "    </tr>\n",
       "    <tr>\n",
       "      <th>3</th>\n",
       "      <td>Rent for four Occupancy\\nâ‚¹ 8,000/M\\nSecurity...</td>\n",
       "      <td>four</td>\n",
       "      <td>8000</td>\n",
       "      <td>8000</td>\n",
       "    </tr>\n",
       "    <tr>\n",
       "      <th>4</th>\n",
       "      <td>Rent for three Occupancy\\nâ‚¹ 9,000/M\\nSecurit...</td>\n",
       "      <td>three</td>\n",
       "      <td>9000</td>\n",
       "      <td>3000</td>\n",
       "    </tr>\n",
       "  </tbody>\n",
       "</table>\n",
       "</div>"
      ],
      "text/plain": [
       "                                     sharing_details occupancy  rent  deposit\n",
       "0  Rent for four Occupancy\\nâ‚¹ 7,500/M\\nSecurity...      four  7500     2000\n",
       "1  Rent for double Occupancy\\nâ‚¹ 9,000/M\\nSecuri...    double  9000     9000\n",
       "2  Rent for three Occupancy\\nâ‚¹ 8,500/M\\nSecurit...     three  8500     2000\n",
       "3  Rent for four Occupancy\\nâ‚¹ 8,000/M\\nSecurity...      four  8000     8000\n",
       "4  Rent for three Occupancy\\nâ‚¹ 9,000/M\\nSecurit...     three  9000     3000"
      ]
     },
     "execution_count": 928,
     "metadata": {},
     "output_type": "execute_result"
    }
   ],
   "source": [
    "df[['sharing_details', 'occupancy', 'rent', 'deposit']].head()"
   ]
  },
  {
   "cell_type": "code",
   "execution_count": 929,
   "id": "2095b7d4-7987-4c24-8de1-9dbce79615d0",
   "metadata": {},
   "outputs": [
    {
     "data": {
      "text/plain": [
       "array(['Aug 1, 2025', 'Immediately', 'Available From: Immediately',\n",
       "       'Aug 5, 2025', 'Sep 1, 2025', 'Available From: Sep 1, 2025',\n",
       "       'Jul 30, 2025'], dtype=object)"
      ]
     },
     "execution_count": 929,
     "metadata": {},
     "output_type": "execute_result"
    }
   ],
   "source": [
    "df['available_from'].unique()"
   ]
  },
  {
   "cell_type": "code",
   "execution_count": 930,
   "id": "6b80d869-0edc-45e3-9d23-899107dca498",
   "metadata": {},
   "outputs": [],
   "source": [
    "# #step3: Convert to datetime\n",
    "# df['available_from'] = df['available_from'].str.replace('Available From: ', '', regex=False)\n",
    "# df['available_from'] = df['available_from'].replace('Immediately', (datetime.today() - timedelta(days=13)).date())\n",
    "# df['available_from'] = pd.to_datetime(df['available_from'], errors='coerce')\n"
   ]
  },
  {
   "cell_type": "code",
   "execution_count": 931,
   "id": "731fc958-f61c-4291-b37e-66897e190346",
   "metadata": {},
   "outputs": [
    {
     "data": {
      "text/plain": [
       "<DatetimeArray>\n",
       "['2025-08-01 00:00:00', '2025-07-23 00:00:00', '2025-08-05 00:00:00',\n",
       " '2025-09-01 00:00:00', '2025-07-30 00:00:00']\n",
       "Length: 5, dtype: datetime64[ns]"
      ]
     },
     "execution_count": 931,
     "metadata": {},
     "output_type": "execute_result"
    }
   ],
   "source": [
    "#step3: Convert to datetime\n",
    "df['available_from'] = df['available_from'].str.replace('Available From: ', '', regex=False)\n",
    "df['available_from'] = df['available_from'].replace('Immediately', datetime.today().date())\n",
    "df['available_from'] = pd.to_datetime(df['available_from'], errors='coerce')\n",
    "\n",
    "df['available_from'].unique()"
   ]
  },
  {
   "cell_type": "code",
   "execution_count": 932,
   "id": "d9753e46-15e1-478e-9819-2ed7151624a1",
   "metadata": {},
   "outputs": [
    {
     "data": {
      "text/plain": [
       "0     2025-08-01\n",
       "1     2025-08-01\n",
       "2     2025-08-01\n",
       "3     2025-07-23\n",
       "4     2025-07-23\n",
       "         ...    \n",
       "328   2025-07-23\n",
       "329   2025-07-23\n",
       "330   2025-07-23\n",
       "331   2025-07-23\n",
       "332   2025-07-23\n",
       "Name: available_from, Length: 333, dtype: datetime64[ns]"
      ]
     },
     "execution_count": 932,
     "metadata": {},
     "output_type": "execute_result"
    }
   ],
   "source": [
    "df['available_from']"
   ]
  },
  {
   "cell_type": "code",
   "execution_count": 933,
   "id": "1db8f7ba-b32f-4ca2-b2d0-8fe1797cc8b3",
   "metadata": {},
   "outputs": [
    {
     "data": {
      "text/plain": [
       "array(['Jul 1, 2025', 'Jun 29, 2025', 'Jul 3, 2025', 'Jun 30, 2025',\n",
       "       'Jun 1, 2025', 'Mar 23, 2025', 'Jul 4, 2025',\n",
       "       'Posted On: Jul 3, 2025', 'Jun 28, 2025', 'Jul 5, 2025',\n",
       "       'Jul 2, 2025', 'Jun 4, 2025', 'Apr 12, 2025', 'Jun 26, 2025',\n",
       "       'Jun 19, 2025', 'Jun 17, 2025', 'Jun 23, 2025', 'Jun 27, 2025',\n",
       "       'Jun 22, 2025', 'Jun 13, 2025', 'Jun 10, 2025', 'Oct 31, 2024',\n",
       "       'Jun 11, 2025', 'Jun 12, 2025', 'Jun 18, 2025', 'May 25, 2025',\n",
       "       'May 29, 2025', 'Jun 14, 2025', 'Jun 8, 2025', 'Jul 7, 2025',\n",
       "       'May 30, 2025', 'Jun 16, 2025', 'Jun 25, 2025', 'Jul 8, 2025',\n",
       "       'Jun 2, 2025', 'May 28, 2025', 'Jun 6, 2025', 'Jun 7, 2025',\n",
       "       'Jun 9, 2025', 'May 31, 2025', 'May 26, 2025', 'Oct 17, 2023',\n",
       "       'Jun 15, 2025', 'May 8, 2024', 'Jun 24, 2025', 'Jul 6, 2025',\n",
       "       'Jun 3, 2025', 'May 11, 2024'], dtype=object)"
      ]
     },
     "execution_count": 933,
     "metadata": {},
     "output_type": "execute_result"
    }
   ],
   "source": [
    "df['posted_on'].unique()"
   ]
  },
  {
   "cell_type": "code",
   "execution_count": 934,
   "id": "966981cc-5465-4dfc-821f-848302509f16",
   "metadata": {},
   "outputs": [],
   "source": [
    "#step4: Clean and Convert posted_on to Date (No Time)"
   ]
  },
  {
   "cell_type": "code",
   "execution_count": 935,
   "id": "0904edf1-0f76-4ef8-941e-c05551566648",
   "metadata": {
    "scrolled": true
   },
   "outputs": [
    {
     "data": {
      "text/plain": [
       "array([datetime.date(2025, 7, 1), datetime.date(2025, 6, 29),\n",
       "       datetime.date(2025, 7, 3), datetime.date(2025, 6, 30),\n",
       "       datetime.date(2025, 6, 1), datetime.date(2025, 3, 23),\n",
       "       datetime.date(2025, 7, 4), datetime.date(2025, 6, 28),\n",
       "       datetime.date(2025, 7, 5), datetime.date(2025, 7, 2),\n",
       "       datetime.date(2025, 6, 4), datetime.date(2025, 4, 12),\n",
       "       datetime.date(2025, 6, 26), datetime.date(2025, 6, 19),\n",
       "       datetime.date(2025, 6, 17), datetime.date(2025, 6, 23),\n",
       "       datetime.date(2025, 6, 27), datetime.date(2025, 6, 22),\n",
       "       datetime.date(2025, 6, 13), datetime.date(2025, 6, 10),\n",
       "       datetime.date(2024, 10, 31), datetime.date(2025, 6, 11),\n",
       "       datetime.date(2025, 6, 12), datetime.date(2025, 6, 18),\n",
       "       datetime.date(2025, 5, 25), datetime.date(2025, 5, 29),\n",
       "       datetime.date(2025, 6, 14), datetime.date(2025, 6, 8),\n",
       "       datetime.date(2025, 7, 7), datetime.date(2025, 5, 30),\n",
       "       datetime.date(2025, 6, 16), datetime.date(2025, 6, 25),\n",
       "       datetime.date(2025, 7, 8), datetime.date(2025, 6, 2),\n",
       "       datetime.date(2025, 5, 28), datetime.date(2025, 6, 6),\n",
       "       datetime.date(2025, 6, 7), datetime.date(2025, 6, 9),\n",
       "       datetime.date(2025, 5, 31), datetime.date(2025, 5, 26),\n",
       "       datetime.date(2023, 10, 17), datetime.date(2025, 6, 15),\n",
       "       datetime.date(2024, 5, 8), datetime.date(2025, 6, 24),\n",
       "       datetime.date(2025, 7, 6), datetime.date(2025, 6, 3),\n",
       "       datetime.date(2024, 5, 11)], dtype=object)"
      ]
     },
     "execution_count": 935,
     "metadata": {},
     "output_type": "execute_result"
    }
   ],
   "source": [
    "df['posted_on'] = df['posted_on'].str.replace('Posted On: ', '', regex=False)\n",
    "df['posted_on'] = pd.to_datetime(df['posted_on'], errors='coerce')\n",
    "df['posted_on'] = df['posted_on'].dt.date\n",
    "\n",
    "df['posted_on'].unique()"
   ]
  },
  {
   "cell_type": "code",
   "execution_count": 936,
   "id": "da3c3837-73fc-4e15-b8ee-76f21c979180",
   "metadata": {},
   "outputs": [
    {
     "data": {
      "text/plain": [
       "0    2025-07-01\n",
       "1    2025-06-29\n",
       "2    2025-07-03\n",
       "3    2025-07-01\n",
       "4    2025-07-01\n",
       "Name: posted_on, dtype: object"
      ]
     },
     "execution_count": 936,
     "metadata": {},
     "output_type": "execute_result"
    }
   ],
   "source": [
    "df['posted_on'].head()"
   ]
  },
  {
   "cell_type": "code",
   "execution_count": 937,
   "id": "6bf6bf6e-2189-425d-bd81-abd7623b10a3",
   "metadata": {},
   "outputs": [
    {
     "data": {
      "text/html": [
       "<div>\n",
       "<style scoped>\n",
       "    .dataframe tbody tr th:only-of-type {\n",
       "        vertical-align: middle;\n",
       "    }\n",
       "\n",
       "    .dataframe tbody tr th {\n",
       "        vertical-align: top;\n",
       "    }\n",
       "\n",
       "    .dataframe thead th {\n",
       "        text-align: right;\n",
       "    }\n",
       "</style>\n",
       "<table border=\"1\" class=\"dataframe\">\n",
       "  <thead>\n",
       "    <tr style=\"text-align: right;\">\n",
       "      <th></th>\n",
       "      <th>pg_name</th>\n",
       "      <th>location</th>\n",
       "      <th>source_url</th>\n",
       "      <th>sharing_details</th>\n",
       "      <th>room_amenities</th>\n",
       "      <th>common_amenities</th>\n",
       "      <th>food_facility</th>\n",
       "      <th>available_from</th>\n",
       "      <th>posted_on</th>\n",
       "      <th>gate_closing_time</th>\n",
       "      <th>parking</th>\n",
       "      <th>occupancy</th>\n",
       "      <th>rent</th>\n",
       "      <th>deposit</th>\n",
       "    </tr>\n",
       "  </thead>\n",
       "  <tbody>\n",
       "    <tr>\n",
       "      <th>0</th>\n",
       "      <td>PG for Girls in Madhapur</td>\n",
       "      <td>Madhapur</td>\n",
       "      <td>https://www.nobroker.in/property/pg/pg-hostel-...</td>\n",
       "      <td>Rent for four Occupancy\\nâ‚¹ 7,500/M\\nSecurity...</td>\n",
       "      <td>Bed, Cupboard, Attached bathroom, Geaser, Tabl...</td>\n",
       "      <td>CCTV, Wifi, Power backup, Washing Machine, RO ...</td>\n",
       "      <td>All Meals</td>\n",
       "      <td>2025-08-01</td>\n",
       "      <td>2025-07-01</td>\n",
       "      <td>Not Provided</td>\n",
       "      <td>Bike</td>\n",
       "      <td>four</td>\n",
       "      <td>7500</td>\n",
       "      <td>2000</td>\n",
       "    </tr>\n",
       "    <tr>\n",
       "      <th>1</th>\n",
       "      <td>PG for Boys in Madhapur</td>\n",
       "      <td>Madhapur</td>\n",
       "      <td>https://www.nobroker.in/property/pg/pg-hostel-...</td>\n",
       "      <td>Rent for double Occupancy\\nâ‚¹ 9,000/M\\nSecuri...</td>\n",
       "      <td>Bed with mattress, Cupboard, Fan, Light/Chargi...</td>\n",
       "      <td>Food (Andhra hygiene meals), WiFi, TV, Power b...</td>\n",
       "      <td>All Meals</td>\n",
       "      <td>2025-08-01</td>\n",
       "      <td>2025-06-29</td>\n",
       "      <td>Not Provided</td>\n",
       "      <td>Bike and Car</td>\n",
       "      <td>double</td>\n",
       "      <td>9000</td>\n",
       "      <td>9000</td>\n",
       "    </tr>\n",
       "    <tr>\n",
       "      <th>2</th>\n",
       "      <td>PG for Boys in Madhapur</td>\n",
       "      <td>Madhapur</td>\n",
       "      <td>https://www.nobroker.in/property/pg/pg-hostel-...</td>\n",
       "      <td>Rent for three Occupancy\\nâ‚¹ 8,500/M\\nSecurit...</td>\n",
       "      <td>Attached bathroom, Geaser, Bedding</td>\n",
       "      <td>Food (Andhra hygiene meals), WiFi, TV, Power b...</td>\n",
       "      <td>All Meals</td>\n",
       "      <td>2025-08-01</td>\n",
       "      <td>2025-07-03</td>\n",
       "      <td>Not Provided</td>\n",
       "      <td>Bike</td>\n",
       "      <td>three</td>\n",
       "      <td>8500</td>\n",
       "      <td>2000</td>\n",
       "    </tr>\n",
       "    <tr>\n",
       "      <th>3</th>\n",
       "      <td>PG for Girls in Madhapur</td>\n",
       "      <td>Madhapur</td>\n",
       "      <td>https://www.nobroker.in/property/pg/pg-hostel-...</td>\n",
       "      <td>Rent for four Occupancy\\nâ‚¹ 8,000/M\\nSecurity...</td>\n",
       "      <td>Bed with mattress, Cupboard, Fan, Light, Attac...</td>\n",
       "      <td>Food, WiFi, TV, Washing Machine, Power Backup,...</td>\n",
       "      <td>All Meals</td>\n",
       "      <td>2025-07-23</td>\n",
       "      <td>2025-07-01</td>\n",
       "      <td>Not Provided</td>\n",
       "      <td>Bike</td>\n",
       "      <td>four</td>\n",
       "      <td>8000</td>\n",
       "      <td>8000</td>\n",
       "    </tr>\n",
       "    <tr>\n",
       "      <th>4</th>\n",
       "      <td>PG for Anyone in Madhapur</td>\n",
       "      <td>Madhapur</td>\n",
       "      <td>https://www.nobroker.in/property/pg/pg-hostel-...</td>\n",
       "      <td>Rent for three Occupancy\\nâ‚¹ 9,000/M\\nSecurit...</td>\n",
       "      <td>Bed with mattress, Fan, Light, Attached Bathro...</td>\n",
       "      <td>Food, WiFi, TV, Power Backup, Washing Machine,...</td>\n",
       "      <td>All Meals</td>\n",
       "      <td>2025-07-23</td>\n",
       "      <td>2025-07-01</td>\n",
       "      <td>Not Provided</td>\n",
       "      <td>Bike</td>\n",
       "      <td>three</td>\n",
       "      <td>9000</td>\n",
       "      <td>3000</td>\n",
       "    </tr>\n",
       "  </tbody>\n",
       "</table>\n",
       "</div>"
      ],
      "text/plain": [
       "                     pg_name  location  \\\n",
       "0   PG for Girls in Madhapur  Madhapur   \n",
       "1    PG for Boys in Madhapur  Madhapur   \n",
       "2    PG for Boys in Madhapur  Madhapur   \n",
       "3   PG for Girls in Madhapur  Madhapur   \n",
       "4  PG for Anyone in Madhapur  Madhapur   \n",
       "\n",
       "                                          source_url  \\\n",
       "0  https://www.nobroker.in/property/pg/pg-hostel-...   \n",
       "1  https://www.nobroker.in/property/pg/pg-hostel-...   \n",
       "2  https://www.nobroker.in/property/pg/pg-hostel-...   \n",
       "3  https://www.nobroker.in/property/pg/pg-hostel-...   \n",
       "4  https://www.nobroker.in/property/pg/pg-hostel-...   \n",
       "\n",
       "                                     sharing_details  \\\n",
       "0  Rent for four Occupancy\\nâ‚¹ 7,500/M\\nSecurity...   \n",
       "1  Rent for double Occupancy\\nâ‚¹ 9,000/M\\nSecuri...   \n",
       "2  Rent for three Occupancy\\nâ‚¹ 8,500/M\\nSecurit...   \n",
       "3  Rent for four Occupancy\\nâ‚¹ 8,000/M\\nSecurity...   \n",
       "4  Rent for three Occupancy\\nâ‚¹ 9,000/M\\nSecurit...   \n",
       "\n",
       "                                      room_amenities  \\\n",
       "0  Bed, Cupboard, Attached bathroom, Geaser, Tabl...   \n",
       "1  Bed with mattress, Cupboard, Fan, Light/Chargi...   \n",
       "2                 Attached bathroom, Geaser, Bedding   \n",
       "3  Bed with mattress, Cupboard, Fan, Light, Attac...   \n",
       "4  Bed with mattress, Fan, Light, Attached Bathro...   \n",
       "\n",
       "                                    common_amenities food_facility  \\\n",
       "0  CCTV, Wifi, Power backup, Washing Machine, RO ...     All Meals   \n",
       "1  Food (Andhra hygiene meals), WiFi, TV, Power b...     All Meals   \n",
       "2  Food (Andhra hygiene meals), WiFi, TV, Power b...     All Meals   \n",
       "3  Food, WiFi, TV, Washing Machine, Power Backup,...     All Meals   \n",
       "4  Food, WiFi, TV, Power Backup, Washing Machine,...     All Meals   \n",
       "\n",
       "  available_from   posted_on gate_closing_time       parking occupancy  rent  \\\n",
       "0     2025-08-01  2025-07-01      Not Provided          Bike      four  7500   \n",
       "1     2025-08-01  2025-06-29      Not Provided  Bike and Car    double  9000   \n",
       "2     2025-08-01  2025-07-03      Not Provided          Bike     three  8500   \n",
       "3     2025-07-23  2025-07-01      Not Provided          Bike      four  8000   \n",
       "4     2025-07-23  2025-07-01      Not Provided          Bike     three  9000   \n",
       "\n",
       "   deposit  \n",
       "0     2000  \n",
       "1     9000  \n",
       "2     2000  \n",
       "3     8000  \n",
       "4     3000  "
      ]
     },
     "execution_count": 937,
     "metadata": {},
     "output_type": "execute_result"
    }
   ],
   "source": [
    "df.head()"
   ]
  },
  {
   "cell_type": "code",
   "execution_count": 938,
   "id": "0e7a3c76-42c5-42ef-80f2-316d56e337a5",
   "metadata": {},
   "outputs": [],
   "source": [
    "# step5: Remove source_url Column"
   ]
  },
  {
   "cell_type": "code",
   "execution_count": 939,
   "id": "510902ac-616f-4b70-97c1-d482ca56c2b0",
   "metadata": {},
   "outputs": [],
   "source": [
    "df.drop(columns=['source_url'], inplace=True)"
   ]
  },
  {
   "cell_type": "code",
   "execution_count": 940,
   "id": "e9e804c6-f6d8-4289-9bbb-cfad6d615f29",
   "metadata": {},
   "outputs": [],
   "source": [
    "# step6: 2. Remove gate_closing_time"
   ]
  },
  {
   "cell_type": "code",
   "execution_count": 941,
   "id": "2d4bd1e2-ba09-4db0-96c2-b9cc5abe024f",
   "metadata": {},
   "outputs": [
    {
     "data": {
      "text/plain": [
       "gate_closing_time\n",
       "Not Provided                       311\n",
       "11:00 PM                             7\n",
       "10:30 PM                             5\n",
       "12:00 AM                             4\n",
       "Gate Closing Time: Not Provided      2\n",
       "12:55 AM                             2\n",
       "11:30 PM                             1\n",
       "10:00 PM                             1\n",
       "Name: count, dtype: int64"
      ]
     },
     "execution_count": 941,
     "metadata": {},
     "output_type": "execute_result"
    }
   ],
   "source": [
    "df['gate_closing_time'].value_counts()"
   ]
  },
  {
   "cell_type": "code",
   "execution_count": 942,
   "id": "c1170e14-adb3-4dc4-9372-f161c718898b",
   "metadata": {},
   "outputs": [],
   "source": [
    "df.drop(columns=['gate_closing_time'], inplace=True)"
   ]
  },
  {
   "cell_type": "code",
   "execution_count": 943,
   "id": "5a481563-74ef-4440-a9ba-94c622e397a5",
   "metadata": {},
   "outputs": [],
   "source": [
    "# step7:  Missing Values in parking (2 missing)"
   ]
  },
  {
   "cell_type": "code",
   "execution_count": 944,
   "id": "68eaa577-0626-4714-b982-810b1936033f",
   "metadata": {},
   "outputs": [
    {
     "name": "stderr",
     "output_type": "stream",
     "text": [
      "C:\\Users\\lenovo\\AppData\\Local\\Temp\\ipykernel_21460\\190862555.py:2: FutureWarning: A value is trying to be set on a copy of a DataFrame or Series through chained assignment using an inplace method.\n",
      "The behavior will change in pandas 3.0. This inplace method will never work because the intermediate object on which we are setting values always behaves as a copy.\n",
      "\n",
      "For example, when doing 'df[col].method(value, inplace=True)', try using 'df.method({col: value}, inplace=True)' or df[col] = df[col].method(value) instead, to perform the operation inplace on the original object.\n",
      "\n",
      "\n",
      "  df['parking'].fillna(mode_parking, inplace=True)\n"
     ]
    }
   ],
   "source": [
    "mode_parking = df['parking'].mode()[0]\n",
    "df['parking'].fillna(mode_parking, inplace=True)"
   ]
  },
  {
   "cell_type": "code",
   "execution_count": 945,
   "id": "4e0db620-1124-4635-8567-7a99f71afe3d",
   "metadata": {},
   "outputs": [],
   "source": [
    "# step8: drop sharing_details column\n",
    "df.drop(columns=['sharing_details'], inplace=True)"
   ]
  },
  {
   "cell_type": "code",
   "execution_count": 946,
   "id": "ef06ee00-6f8a-4b38-bf06-05a45d8b42ac",
   "metadata": {},
   "outputs": [
    {
     "data": {
      "text/plain": [
       "array(['Bike', 'Bike and Car', 'Car'], dtype=object)"
      ]
     },
     "execution_count": 946,
     "metadata": {},
     "output_type": "execute_result"
    }
   ],
   "source": [
    "# step9: Clean the parking Column\n",
    "df['parking'] = df['parking'].replace({\n",
    "    'Parking: Bike and Car': 'Bike and Car',\n",
    "    'Parking: Bike': 'Bike'\n",
    "})\n",
    "df['parking'].unique()"
   ]
  },
  {
   "cell_type": "code",
   "execution_count": 947,
   "id": "df46d070-2f10-471f-a93e-c1d9c02fc3c1",
   "metadata": {},
   "outputs": [
    {
     "data": {
      "text/plain": [
       "array(['All Meals', 'Not Available', 'Food Facility: All Meals',\n",
       "       'Breakfast,dinner'], dtype=object)"
      ]
     },
     "execution_count": 947,
     "metadata": {},
     "output_type": "execute_result"
    }
   ],
   "source": [
    "df['food_facility'].unique()"
   ]
  },
  {
   "cell_type": "code",
   "execution_count": 948,
   "id": "f0de3299-ad4e-4feb-a674-099b2a6271a6",
   "metadata": {},
   "outputs": [],
   "source": [
    "#step10: \n",
    "df['food_facility'] = df['food_facility'].replace(\"Food Facility: All Meals\", \"All Meals\")"
   ]
  },
  {
   "cell_type": "code",
   "execution_count": 949,
   "id": "f5484172-fb7e-4ad8-879b-5b342130486c",
   "metadata": {},
   "outputs": [
    {
     "data": {
      "text/plain": [
       "array(['All Meals', 'Not Available', 'Breakfast,dinner'], dtype=object)"
      ]
     },
     "execution_count": 949,
     "metadata": {},
     "output_type": "execute_result"
    }
   ],
   "source": [
    "df['food_facility'].unique()"
   ]
  },
  {
   "cell_type": "code",
   "execution_count": 950,
   "id": "89e67644-aeb4-4ce1-8c29-420320eeb25e",
   "metadata": {},
   "outputs": [],
   "source": [
    "amenity_synonyms = {\n",
    "    \"air conditioner\": \"ac\",\n",
    "    \"air conditioner (ac)\": \"ac\",\n",
    "    \"air conditioning (ac)\": \"ac\",\n",
    "    \"ac (on request)\": \"ac (on request)\",\n",
    "\n",
    "    \"ceiling fan\": \"fan\",\n",
    "    \n",
    "    \"wi-fi\": \"wifi\",\n",
    "    \"wi?fi\": \"wifi\",\n",
    "\n",
    "    \"telivision\": \"tv\",\n",
    "    \n",
    "    \"refrigerator\": \"fridge\",\n",
    "    \n",
    "    \"geaser\": \"geyser\",\n",
    "    \"geyser (hot water)\": \"geyser\",\n",
    "    \"geyser (seasonal)\": \"geyser (seasonal)\",\n",
    "\n",
    "\n",
    "    \"wardrobe\": \"cupboard\",\n",
    "    \"cupboard/wardrobe\": \"cupboard\",\n",
    "    \"wardrobe/cupboard\": \"cupboard\",\n",
    "    \"wardrobe/ cupboard\": \"cupboard\",\n",
    "    \"shared cupboard/wardrobe\": \"shared cupboard\",\n",
    "    \"shared wardrobe/cupboard\": \"shared cupboard\",\n",
    "    \"cupboard with lockers\": \"cupboard\",\n",
    "    \"basic cupboard\": \"cupboard\",\n",
    "    \"basic storage (likely)\": \"cupboard\",\n",
    "    \n",
    "    \"light/charging point\": \"charging points\",\n",
    "\n",
    "    \"study table & chairs\": \"study table & chair\",\n",
    "    \"study table & chair)\": \"study table & chair\",\n",
    "    'basic study table & chairs': \"study table & chair\",\n",
    "    \"table\": \"study table\",\n",
    "    \n",
    "    \"attached washroom\": \"attached bathroom\",\n",
    "    \"shared washroom\": \"attached bathroom\",\n",
    "    \"bathroom\": \"attached bathroom\",\n",
    "    \"attached bathroom with geyser\": [\"attached bathroom\", \"geyser\"],\n",
    "    \"attached bathroom with geyser (hot water)\": [\"attached bathroom\", \"geyser\"],\n",
    "    \"attached bathroom (western)\": \"attached bathroom\",\n",
    "    \n",
    "    \"bedding\": \"mattress\",\n",
    "    \"bed sheet\": \"bed sheets\",\n",
    "    \"cots\": \"bed\",\n",
    "    \n",
    "    # split these based on bed presence (logic handled separately)\n",
    "    \"bedding with mattress\": [\"bed\", \"mattress\"],\n",
    "    \"bed with mattress\": [\"bed\", \"mattress\"],\n",
    "    \"fully furnished room (bed & mattress\": [\"bed\", \"mattress\"],\n",
    "    \"fully furnished room (bed with mattress\": [\"bed\", \"mattress\"],\n",
    "    \"fully furnished room (2 beds with mattresses)\": [\"bed\", \"mattress\"],\n",
    "    \"double occupancy room – 2 beds with mattresses\": [\"bed\", \"mattress\"],\n",
    "    \"3 beds with mattresses\": [\"bed\", \"mattress\"],\n",
    "    \"4 beds with mattresses\": [\"bed\", \"mattress\"]\n",
    "}\n",
    "\n",
    "# -----------------------------\n",
    "# 2. Classification sets\n",
    "# -----------------------------\n",
    "room_only = {\"ac\", \"cupboard\", \"bedding\", \"attached bathroom\", \"geyser\"}\n",
    "common_only = {\"tv\", \"wifi\", \"microwave\", \"fridge\", \"washing machine\", \"water purifier\", \"safety lockers\"}\n",
    "basic_room_amenities = {\"bed\", \"fan\", \"light\", \"charging points\"}\n",
    "basic_common_amenities = {\"wifi\", \"fridge\", \"washing machine\", \"water purifier\", \"cctv\", \"housekeeping\"}\n",
    "\n",
    "# -----------------------------\n",
    "# 3. Regex for removal from common\n",
    "# -----------------------------\n",
    "remove_pattern = re.compile(r\"(food|meal|parking|inferred|likely|na|none)\", re.IGNORECASE)\n",
    "\n",
    "# -----------------------------\n",
    "# 4. Clean room/common amenities separately\n",
    "# -----------------------------\n",
    "def clean_amenities(raw_text, is_common=False):\n",
    "    if pd.isna(raw_text):\n",
    "        return []\n",
    "    items = re.split(r\",|\\n|;\", raw_text.lower())\n",
    "    cleaned = []\n",
    "    has_bed = False\n",
    "\n",
    "    # First pass to detect bed presence\n",
    "    for item in items:\n",
    "        item = item.strip()\n",
    "        if item == \"bed\":\n",
    "            has_bed = True\n",
    "\n",
    "    # Second pass to apply logic\n",
    "    for item in items:\n",
    "        item = item.strip()\n",
    "        if not item:\n",
    "            continue\n",
    "        # Remove unwanted common items\n",
    "        if is_common and remove_pattern.search(item):\n",
    "            continue\n",
    "        mapped = amenity_synonyms.get(item)\n",
    "        if mapped:\n",
    "            if isinstance(mapped, list):\n",
    "                if has_bed:\n",
    "                    cleaned.append(\"mattress\")\n",
    "                else:\n",
    "                    cleaned.extend([\"bed\", \"mattress\"])\n",
    "            else:\n",
    "                cleaned.append(mapped)\n",
    "        else:\n",
    "            cleaned.append(item)\n",
    "    return list(set(cleaned))\n",
    "\n",
    "# -----------------------------\n",
    "# 5. Apply cleaning\n",
    "# -----------------------------\n",
    "df['room_amenities'] = df['room_amenities'].apply(lambda x: clean_amenities(x, is_common=False))\n",
    "df['common_amenities'] = df['common_amenities'].apply(lambda x: clean_amenities(x, is_common=True))\n",
    "\n",
    "# -----------------------------\n",
    "# 6. Fix misplaced + TV logic + renaming\n",
    "# -----------------------------\n",
    "def fix_misplaced(row):\n",
    "    room_set = set(row['room_amenities'])\n",
    "    common_set = set(row['common_amenities'])\n",
    "\n",
    "    # Fix misplaced items\n",
    "    corrected_common = (common_set - room_only) | (common_only & room_set)\n",
    "    corrected_room = (room_set - common_only) | (room_only & common_set)\n",
    "\n",
    "    # Add basic\n",
    "    corrected_room |= basic_room_amenities\n",
    "    corrected_common |= basic_common_amenities\n",
    "\n",
    "    # TV logic\n",
    "    if \"tv\" in corrected_room and \"tv\" not in room_set:\n",
    "        corrected_room.remove(\"tv\")\n",
    "        corrected_common.add(\"tv\")\n",
    "\n",
    "    # Rename for clarity\n",
    "    final_room = []\n",
    "    for item in corrected_room:\n",
    "        if item == \"bed\":\n",
    "            final_room.append(\"bed (cot/frame)\")\n",
    "        elif item == \"mattress\":\n",
    "            final_room.append(\"mattress (foam/cotton)\")\n",
    "        else:\n",
    "            final_room.append(item)\n",
    "\n",
    "    return sorted(set(final_room)), sorted(set(corrected_common))\n",
    "\n",
    "# -----------------------------\n",
    "# 7. Apply fixer\n",
    "# -----------------------------\n",
    "df[['room_amenities', 'common_amenities']] = df.apply(\n",
    "    fix_misplaced, axis=1, result_type='expand'\n",
    ")\n"
   ]
  },
  {
   "cell_type": "code",
   "execution_count": 951,
   "id": "e0f452c9-7c11-4279-8d10-e665485b859b",
   "metadata": {},
   "outputs": [
    {
     "data": {
      "text/html": [
       "<div>\n",
       "<style scoped>\n",
       "    .dataframe tbody tr th:only-of-type {\n",
       "        vertical-align: middle;\n",
       "    }\n",
       "\n",
       "    .dataframe tbody tr th {\n",
       "        vertical-align: top;\n",
       "    }\n",
       "\n",
       "    .dataframe thead th {\n",
       "        text-align: right;\n",
       "    }\n",
       "</style>\n",
       "<table border=\"1\" class=\"dataframe\">\n",
       "  <thead>\n",
       "    <tr style=\"text-align: right;\">\n",
       "      <th></th>\n",
       "      <th>pg_name</th>\n",
       "      <th>location</th>\n",
       "      <th>room_amenities</th>\n",
       "      <th>common_amenities</th>\n",
       "      <th>food_facility</th>\n",
       "      <th>available_from</th>\n",
       "      <th>posted_on</th>\n",
       "      <th>parking</th>\n",
       "      <th>occupancy</th>\n",
       "      <th>rent</th>\n",
       "      <th>deposit</th>\n",
       "    </tr>\n",
       "  </thead>\n",
       "  <tbody>\n",
       "    <tr>\n",
       "      <th>0</th>\n",
       "      <td>PG for Girls in Madhapur</td>\n",
       "      <td>Madhapur</td>\n",
       "      <td>[attached bathroom, bed (cot/frame), chair, ch...</td>\n",
       "      <td>[24/7 water supply, cctv, common tv, dining ar...</td>\n",
       "      <td>All Meals</td>\n",
       "      <td>2025-08-01</td>\n",
       "      <td>2025-07-01</td>\n",
       "      <td>Bike</td>\n",
       "      <td>four</td>\n",
       "      <td>7500</td>\n",
       "      <td>2000</td>\n",
       "    </tr>\n",
       "    <tr>\n",
       "      <th>1</th>\n",
       "      <td>PG for Boys in Madhapur</td>\n",
       "      <td>Madhapur</td>\n",
       "      <td>[attached bathroom, bed (cot/frame), charging ...</td>\n",
       "      <td>[cctv, fridge, housekeeping, power backup, tv,...</td>\n",
       "      <td>All Meals</td>\n",
       "      <td>2025-08-01</td>\n",
       "      <td>2025-06-29</td>\n",
       "      <td>Bike and Car</td>\n",
       "      <td>double</td>\n",
       "      <td>9000</td>\n",
       "      <td>9000</td>\n",
       "    </tr>\n",
       "    <tr>\n",
       "      <th>2</th>\n",
       "      <td>PG for Boys in Madhapur</td>\n",
       "      <td>Madhapur</td>\n",
       "      <td>[attached bathroom, bed (cot/frame), charging ...</td>\n",
       "      <td>[cctv, fridge, housekeeping, power backup, tv,...</td>\n",
       "      <td>All Meals</td>\n",
       "      <td>2025-08-01</td>\n",
       "      <td>2025-07-03</td>\n",
       "      <td>Bike</td>\n",
       "      <td>three</td>\n",
       "      <td>8500</td>\n",
       "      <td>2000</td>\n",
       "    </tr>\n",
       "    <tr>\n",
       "      <th>3</th>\n",
       "      <td>PG for Girls in Madhapur</td>\n",
       "      <td>Madhapur</td>\n",
       "      <td>[attached bathroom, bed (cot/frame), charging ...</td>\n",
       "      <td>[cctv, fridge, housekeeping, power backup, tv,...</td>\n",
       "      <td>All Meals</td>\n",
       "      <td>2025-07-23</td>\n",
       "      <td>2025-07-01</td>\n",
       "      <td>Bike</td>\n",
       "      <td>four</td>\n",
       "      <td>8000</td>\n",
       "      <td>8000</td>\n",
       "    </tr>\n",
       "    <tr>\n",
       "      <th>4</th>\n",
       "      <td>PG for Anyone in Madhapur</td>\n",
       "      <td>Madhapur</td>\n",
       "      <td>[attached bathroom, bed (cot/frame), charging ...</td>\n",
       "      <td>[cctv, fridge, housekeeping, power backup, tv,...</td>\n",
       "      <td>All Meals</td>\n",
       "      <td>2025-07-23</td>\n",
       "      <td>2025-07-01</td>\n",
       "      <td>Bike</td>\n",
       "      <td>three</td>\n",
       "      <td>9000</td>\n",
       "      <td>3000</td>\n",
       "    </tr>\n",
       "    <tr>\n",
       "      <th>...</th>\n",
       "      <td>...</td>\n",
       "      <td>...</td>\n",
       "      <td>...</td>\n",
       "      <td>...</td>\n",
       "      <td>...</td>\n",
       "      <td>...</td>\n",
       "      <td>...</td>\n",
       "      <td>...</td>\n",
       "      <td>...</td>\n",
       "      <td>...</td>\n",
       "      <td>...</td>\n",
       "    </tr>\n",
       "    <tr>\n",
       "      <th>328</th>\n",
       "      <td>PG for Boys in Banjara Hills</td>\n",
       "      <td>Banjara Hills</td>\n",
       "      <td>[ac, bed (cot/frame), charging points, cupboar...</td>\n",
       "      <td>[24×7 security with cctv, cctv, common tv loun...</td>\n",
       "      <td>All Meals</td>\n",
       "      <td>2025-07-23</td>\n",
       "      <td>2025-07-06</td>\n",
       "      <td>Bike</td>\n",
       "      <td>double</td>\n",
       "      <td>8500</td>\n",
       "      <td>1000</td>\n",
       "    </tr>\n",
       "    <tr>\n",
       "      <th>329</th>\n",
       "      <td>PG for Boys in Banjara Hills</td>\n",
       "      <td>Banjara Hills</td>\n",
       "      <td>[ac, bed (cot/frame), charging points, curtain...</td>\n",
       "      <td>[24×7 security with cctv, cctv, common tv loun...</td>\n",
       "      <td>All Meals</td>\n",
       "      <td>2025-07-23</td>\n",
       "      <td>2025-07-06</td>\n",
       "      <td>Bike</td>\n",
       "      <td>three</td>\n",
       "      <td>7500</td>\n",
       "      <td>1000</td>\n",
       "    </tr>\n",
       "    <tr>\n",
       "      <th>330</th>\n",
       "      <td>PG for Boys in Banjara Hills</td>\n",
       "      <td>Banjara Hills</td>\n",
       "      <td>[bed (cot/frame), charging points, curtains, f...</td>\n",
       "      <td>[24×7 security with cctv, cctv, common tv loun...</td>\n",
       "      <td>All Meals</td>\n",
       "      <td>2025-07-23</td>\n",
       "      <td>2025-07-06</td>\n",
       "      <td>Bike</td>\n",
       "      <td>four</td>\n",
       "      <td>6500</td>\n",
       "      <td>1000</td>\n",
       "    </tr>\n",
       "    <tr>\n",
       "      <th>331</th>\n",
       "      <td>PG for Anyone in Banjara Hills</td>\n",
       "      <td>Banjara Hills</td>\n",
       "      <td>[ac, bed (cot/frame), charging points, curtain...</td>\n",
       "      <td>[24×7 security with cctv &amp; gated entry, cctv, ...</td>\n",
       "      <td>Not Available</td>\n",
       "      <td>2025-07-23</td>\n",
       "      <td>2025-06-10</td>\n",
       "      <td>Bike</td>\n",
       "      <td>double</td>\n",
       "      <td>13000</td>\n",
       "      <td>20000</td>\n",
       "    </tr>\n",
       "    <tr>\n",
       "      <th>332</th>\n",
       "      <td>PG for Girls in Banjara Hills</td>\n",
       "      <td>Banjara Hills</td>\n",
       "      <td>[attached bathroom, bed (cot/frame), charging ...</td>\n",
       "      <td>[24×7 security with cctv, 24×7 water, cctv, da...</td>\n",
       "      <td>Not Available</td>\n",
       "      <td>2025-07-23</td>\n",
       "      <td>2025-06-22</td>\n",
       "      <td>Bike</td>\n",
       "      <td>double</td>\n",
       "      <td>10000</td>\n",
       "      <td>5000</td>\n",
       "    </tr>\n",
       "  </tbody>\n",
       "</table>\n",
       "<p>333 rows × 11 columns</p>\n",
       "</div>"
      ],
      "text/plain": [
       "                            pg_name       location  \\\n",
       "0          PG for Girls in Madhapur       Madhapur   \n",
       "1           PG for Boys in Madhapur       Madhapur   \n",
       "2           PG for Boys in Madhapur       Madhapur   \n",
       "3          PG for Girls in Madhapur       Madhapur   \n",
       "4         PG for Anyone in Madhapur       Madhapur   \n",
       "..                              ...            ...   \n",
       "328    PG for Boys in Banjara Hills  Banjara Hills   \n",
       "329    PG for Boys in Banjara Hills  Banjara Hills   \n",
       "330    PG for Boys in Banjara Hills  Banjara Hills   \n",
       "331  PG for Anyone in Banjara Hills  Banjara Hills   \n",
       "332   PG for Girls in Banjara Hills  Banjara Hills   \n",
       "\n",
       "                                        room_amenities  \\\n",
       "0    [attached bathroom, bed (cot/frame), chair, ch...   \n",
       "1    [attached bathroom, bed (cot/frame), charging ...   \n",
       "2    [attached bathroom, bed (cot/frame), charging ...   \n",
       "3    [attached bathroom, bed (cot/frame), charging ...   \n",
       "4    [attached bathroom, bed (cot/frame), charging ...   \n",
       "..                                                 ...   \n",
       "328  [ac, bed (cot/frame), charging points, cupboar...   \n",
       "329  [ac, bed (cot/frame), charging points, curtain...   \n",
       "330  [bed (cot/frame), charging points, curtains, f...   \n",
       "331  [ac, bed (cot/frame), charging points, curtain...   \n",
       "332  [attached bathroom, bed (cot/frame), charging ...   \n",
       "\n",
       "                                      common_amenities  food_facility  \\\n",
       "0    [24/7 water supply, cctv, common tv, dining ar...      All Meals   \n",
       "1    [cctv, fridge, housekeeping, power backup, tv,...      All Meals   \n",
       "2    [cctv, fridge, housekeeping, power backup, tv,...      All Meals   \n",
       "3    [cctv, fridge, housekeeping, power backup, tv,...      All Meals   \n",
       "4    [cctv, fridge, housekeeping, power backup, tv,...      All Meals   \n",
       "..                                                 ...            ...   \n",
       "328  [24×7 security with cctv, cctv, common tv loun...      All Meals   \n",
       "329  [24×7 security with cctv, cctv, common tv loun...      All Meals   \n",
       "330  [24×7 security with cctv, cctv, common tv loun...      All Meals   \n",
       "331  [24×7 security with cctv & gated entry, cctv, ...  Not Available   \n",
       "332  [24×7 security with cctv, 24×7 water, cctv, da...  Not Available   \n",
       "\n",
       "    available_from   posted_on       parking occupancy   rent  deposit  \n",
       "0       2025-08-01  2025-07-01          Bike      four   7500     2000  \n",
       "1       2025-08-01  2025-06-29  Bike and Car    double   9000     9000  \n",
       "2       2025-08-01  2025-07-03          Bike     three   8500     2000  \n",
       "3       2025-07-23  2025-07-01          Bike      four   8000     8000  \n",
       "4       2025-07-23  2025-07-01          Bike     three   9000     3000  \n",
       "..             ...         ...           ...       ...    ...      ...  \n",
       "328     2025-07-23  2025-07-06          Bike    double   8500     1000  \n",
       "329     2025-07-23  2025-07-06          Bike     three   7500     1000  \n",
       "330     2025-07-23  2025-07-06          Bike      four   6500     1000  \n",
       "331     2025-07-23  2025-06-10          Bike    double  13000    20000  \n",
       "332     2025-07-23  2025-06-22          Bike    double  10000     5000  \n",
       "\n",
       "[333 rows x 11 columns]"
      ]
     },
     "execution_count": 951,
     "metadata": {},
     "output_type": "execute_result"
    }
   ],
   "source": [
    "df"
   ]
  },
  {
   "cell_type": "code",
   "execution_count": 974,
   "id": "299f4d8a-a013-4bc0-9b48-91ba19501a3f",
   "metadata": {},
   "outputs": [],
   "source": [
    "df.to_csv(\"final_pg_data.csv\", index=False)"
   ]
  },
  {
   "cell_type": "code",
   "execution_count": 953,
   "id": "847de904-9fb9-452a-8f66-fd6e37cac0a1",
   "metadata": {},
   "outputs": [
    {
     "name": "stdout",
     "output_type": "stream",
     "text": [
      "<class 'pandas.core.frame.DataFrame'>\n",
      "RangeIndex: 333 entries, 0 to 332\n",
      "Data columns (total 11 columns):\n",
      " #   Column            Non-Null Count  Dtype         \n",
      "---  ------            --------------  -----         \n",
      " 0   pg_name           333 non-null    object        \n",
      " 1   location          333 non-null    object        \n",
      " 2   room_amenities    333 non-null    object        \n",
      " 3   common_amenities  333 non-null    object        \n",
      " 4   food_facility     333 non-null    object        \n",
      " 5   available_from    333 non-null    datetime64[ns]\n",
      " 6   posted_on         333 non-null    object        \n",
      " 7   parking           333 non-null    object        \n",
      " 8   occupancy         333 non-null    object        \n",
      " 9   rent              333 non-null    int64         \n",
      " 10  deposit           333 non-null    int64         \n",
      "dtypes: datetime64[ns](1), int64(2), object(8)\n",
      "memory usage: 28.7+ KB\n"
     ]
    }
   ],
   "source": [
    "df.info()"
   ]
  },
  {
   "cell_type": "markdown",
   "id": "ca59d18c-fd61-449d-850a-58adb268fca0",
   "metadata": {},
   "source": [
    "## Insights"
   ]
  },
  {
   "cell_type": "code",
   "execution_count": 954,
   "id": "348c6660-0fb1-4fbc-a14d-eb7cb3a95055",
   "metadata": {},
   "outputs": [],
   "source": [
    "import seaborn as sns\n",
    "import matplotlib.pyplot as plt"
   ]
  },
  {
   "cell_type": "code",
   "execution_count": 955,
   "id": "cb53092f-f383-4622-977a-2b85497b7cad",
   "metadata": {},
   "outputs": [],
   "source": [
    "# 1: Most Common Occupancy Type"
   ]
  },
  {
   "cell_type": "code",
   "execution_count": 956,
   "id": "826df5aa-cdd8-444a-8ad8-daf669fcd053",
   "metadata": {},
   "outputs": [
    {
     "data": {
      "text/plain": [
       "occupancy\n",
       "four      140\n",
       "three      98\n",
       "double     75\n",
       "single     20\n",
       "Name: count, dtype: int64"
      ]
     },
     "execution_count": 956,
     "metadata": {},
     "output_type": "execute_result"
    }
   ],
   "source": [
    "df['occupancy'].value_counts()"
   ]
  },
  {
   "cell_type": "markdown",
   "id": "f459a08f-e326-4bba-b967-d2435dd9656f",
   "metadata": {},
   "source": [
    "The most common occupancy type among PGs in Hyderabad is four-sharing, with 140 listings. This is followed by three-sharing (98), double-sharing (75), and single rooms being the least common with just 20 listings. This suggests a strong focus on affordability and space-sharing, which is typical for student and early-career professional accommodations."
   ]
  },
  {
   "cell_type": "code",
   "execution_count": 957,
   "id": "3b4663f8-9fa7-4bfe-a3f4-dc51014e0623",
   "metadata": {},
   "outputs": [],
   "source": [
    "# 2: Average Rent and Deposit"
   ]
  },
  {
   "cell_type": "code",
   "execution_count": 958,
   "id": "2ea07b3a-f4a0-4b98-9510-b6c26c3e2ea5",
   "metadata": {},
   "outputs": [
    {
     "name": "stdout",
     "output_type": "stream",
     "text": [
      "Average Rent: 7985.585585585585\n",
      "Average Deposit: 3377.126126126126\n"
     ]
    }
   ],
   "source": [
    "print(\"Average Rent:\", df['rent'].mean())\n",
    "print(\"Average Deposit:\", df['deposit'].mean())"
   ]
  },
  {
   "cell_type": "markdown",
   "id": "0c3dd40f-955b-4629-825e-a240de032d5f",
   "metadata": {},
   "source": [
    "The average monthly rent for PGs in Hyderabad is approximately ₹7,986, while the average security deposit is around ₹3,377. This suggests that most PG accommodations are relatively affordable and require a modest upfront payment, making them accessible to students and young professionals."
   ]
  },
  {
   "cell_type": "code",
   "execution_count": 959,
   "id": "378c68d6-908b-47f4-b9a3-e8d0cc29fb2d",
   "metadata": {},
   "outputs": [],
   "source": [
    "# 3: Rent by Occupancy Type"
   ]
  },
  {
   "cell_type": "code",
   "execution_count": 960,
   "id": "f371451d-0338-4a29-8939-b83c511fcdca",
   "metadata": {},
   "outputs": [
    {
     "data": {
      "text/plain": [
       "occupancy\n",
       "single    15290.000000\n",
       "double     9806.666667\n",
       "three      7532.653061\n",
       "four       6283.571429\n",
       "Name: rent, dtype: float64"
      ]
     },
     "execution_count": 960,
     "metadata": {},
     "output_type": "execute_result"
    }
   ],
   "source": [
    "df.groupby('occupancy')['rent'].mean().sort_values(ascending=False)"
   ]
  },
  {
   "cell_type": "markdown",
   "id": "7f51e4e4-599c-4c4d-89ee-fd57df624ba4",
   "metadata": {},
   "source": [
    "As expected, single occupancy PGs are the most expensive, with an average rent of around ₹15,290 per month. This is followed by:\n",
    "\n",
    "Double-sharing: ₹9,807\n",
    "\n",
    "Three-sharing: ₹7,533\n",
    "\n",
    "Four-sharing: ₹6,284\n",
    "\n",
    "The data clearly shows that rent decreases as the number of roommates increases, reflecting the cost-saving benefit of shared living."
   ]
  },
  {
   "cell_type": "code",
   "execution_count": 961,
   "id": "bdd8fd5f-c2d5-4364-9e1a-fa3610bbfac7",
   "metadata": {},
   "outputs": [],
   "source": [
    "# 4: Top 5 Locations by Number of PGs"
   ]
  },
  {
   "cell_type": "code",
   "execution_count": 962,
   "id": "4ba690de-dc1e-4cfa-8f5c-be0e5b67f6ff",
   "metadata": {},
   "outputs": [
    {
     "data": {
      "text/plain": [
       "location\n",
       "Madhapur      58\n",
       "Ameerpet      54\n",
       "Gachibowli    52\n",
       "Uppal         44\n",
       "Kondapur      35\n",
       "Name: count, dtype: int64"
      ]
     },
     "execution_count": 962,
     "metadata": {},
     "output_type": "execute_result"
    }
   ],
   "source": [
    "df['location'].value_counts().head(5)"
   ]
  },
  {
   "cell_type": "markdown",
   "id": "f2089eb0-925d-44c2-88ad-f098e3278224",
   "metadata": {},
   "source": [
    "The most popular areas for PG accommodations in Hyderabad are:\r\n",
    "\r\n",
    "Madhapur – 58 listings\r\n",
    "\r\n",
    "Ameerpet – 54 listings\r\n",
    "\r\n",
    "Gachibowli – 52 listings\r\n",
    "\r\n",
    "Uppal – 44 listings\r\n",
    "\r\n",
    "Kondapur – 35 listings\r\n",
    "\r\n",
    "These locations are likely hubs for IT parks, coaching centers, or educational institutions, making them prime choices for students and working professionals."
   ]
  },
  {
   "cell_type": "code",
   "execution_count": 963,
   "id": "cf6ee073-8b6b-416f-925d-961497797fa3",
   "metadata": {},
   "outputs": [],
   "source": [
    "# 5: Rent Distribution "
   ]
  },
  {
   "cell_type": "code",
   "execution_count": 964,
   "id": "0b6b4e18-4e13-4c77-b245-5c34acc44047",
   "metadata": {},
   "outputs": [
    {
     "data": {
      "image/png": "[encoded data removed]",
      "text/plain": [
       "<Figure size 800x500 with 1 Axes>"
      ]
     },
     "metadata": {},
     "output_type": "display_data"
    }
   ],
   "source": [
    "plt.figure(figsize=(8, 5))\n",
    "sns.histplot(df['rent'], bins=20, kde=True)\n",
    "plt.title('Distribution of PG Rent in Hyderabad')\n",
    "plt.xlabel('Rent')\n",
    "plt.ylabel('Count')\n",
    "plt.show()"
   ]
  },
  {
   "cell_type": "markdown",
   "id": "ea7ec885-308a-4fd3-9d4f-3add7e75c86c",
   "metadata": {},
   "source": [
    "The rent distribution for PGs in Hyderabad is right-skewed, meaning:\n",
    "\n",
    "Most PGs are priced between ₹5,000 to ₹10,000 per month.\n",
    "\n",
    "A few outliers are priced much higher, even reaching ₹40,000, but they are rare.\n",
    "\n",
    "The peak (mode) of the distribution is around ₹7,000–₹8,000, indicating that’s where most PG options lie. This reflects an affordable range for students and entry-level professionals."
   ]
  },
  {
   "cell_type": "code",
   "execution_count": 965,
   "id": "daa07e34-e779-4085-a45a-a32c8c76abab",
   "metadata": {},
   "outputs": [],
   "source": [
    "# 6: Food Facility Availability"
   ]
  },
  {
   "cell_type": "code",
   "execution_count": 966,
   "id": "e9cb1571-4e27-49db-8341-1a66d3ba61f3",
   "metadata": {},
   "outputs": [
    {
     "data": {
      "text/plain": [
       "food_facility\n",
       "All Meals           306\n",
       "Not Available        26\n",
       "Breakfast,dinner      1\n",
       "Name: count, dtype: int64"
      ]
     },
     "execution_count": 966,
     "metadata": {},
     "output_type": "execute_result"
    }
   ],
   "source": [
    "df['food_facility'].value_counts()"
   ]
  },
  {
   "cell_type": "markdown",
   "id": "03b7a84d-98f5-44d6-90fe-0512acb902f1",
   "metadata": {},
   "source": [
    "Majority of PGs (91%) provide all meals (304 out of 333 listings).\r\n",
    "\r\n",
    "Only ~8% of PGs do not offer food.\r\n",
    "\r\n",
    "A very small number offer limited meals like just breakfast and dinner.\r\n",
    "\r\n",
    "This indicates that most PGs in Hyderabad are food-inclusive, making them more attractive for students and working professionals who prefer convenience."
   ]
  },
  {
   "cell_type": "code",
   "execution_count": 967,
   "id": "49669b89-7d10-4167-8bdd-5b1077b59172",
   "metadata": {},
   "outputs": [],
   "source": [
    "# 7: Parking Availability"
   ]
  },
  {
   "cell_type": "code",
   "execution_count": 968,
   "id": "8b9570f9-492b-4ba3-940c-1b448ab8c035",
   "metadata": {},
   "outputs": [
    {
     "data": {
      "text/plain": [
       "parking\n",
       "Bike            301\n",
       "Bike and Car     29\n",
       "Car               3\n",
       "Name: count, dtype: int64"
      ]
     },
     "execution_count": 968,
     "metadata": {},
     "output_type": "execute_result"
    }
   ],
   "source": [
    "df['parking'].value_counts()"
   ]
  },
  {
   "cell_type": "markdown",
   "id": "c8aacc7a-8b7c-425b-a384-f5c4f50b4432",
   "metadata": {},
   "source": [
    "Out of 333 PGs, over 90% (301 PGs) offer bike-only parking. Only 29 PGs provide both bike and car parking, and just 3 PGs support car-only parking.\r\n",
    "\r\n",
    "This trend highlights that most PGs cater to residents using two-wheelers, which aligns well with the student and early-career professional demographic common in Hyderabad."
   ]
  },
  {
   "cell_type": "code",
   "execution_count": 969,
   "id": "d7e72cad-a6f6-48af-baa4-107b2e0925e9",
   "metadata": {},
   "outputs": [],
   "source": [
    "# 8: Upcoming PGs (Available Within 14 Days)"
   ]
  },
  {
   "cell_type": "code",
   "execution_count": 970,
   "id": "a995a075-c1e0-4a6e-ab32-522d8e6bb6af",
   "metadata": {},
   "outputs": [
    {
     "name": "stdout",
     "output_type": "stream",
     "text": [
      "PGs becoming available in next 14 days: 331\n"
     ]
    }
   ],
   "source": [
    "today = pd.to_datetime('today').normalize()\n",
    "cutoff = today + timedelta(days=14)\n",
    "\n",
    "upcoming_pgs = df[df['available_from'] <= cutoff]\n",
    "print(f\"PGs becoming available in next 14 days: {len(upcoming_pgs)}\")"
   ]
  },
  {
   "cell_type": "markdown",
   "id": "e9501985-0f00-470e-ac88-d7168d5f6a1d",
   "metadata": {},
   "source": [
    "Out of 333 PG listings, 330 PGs are becoming available within the next 14 days.\r\n",
    "\r\n",
    "This indicates that the Hyderabad PG rental market is highly active, with most listings ready for immediate or near-immediate occupancy — a favorable scenario for students and professionals searching for quick move-in options."
   ]
  },
  {
   "cell_type": "code",
   "execution_count": 971,
   "id": "a0c0bc77-aa57-45ca-8315-5a42a5788b5d",
   "metadata": {},
   "outputs": [],
   "source": [
    "# 9: Most Common Room Amenities"
   ]
  },
  {
   "cell_type": "code",
   "execution_count": 972,
   "id": "8e2db36a-294b-4f4d-9d33-7e940665028e",
   "metadata": {},
   "outputs": [
    {
     "name": "stdout",
     "output_type": "stream",
     "text": [
      "[('bed (cot/frame)', 333), ('charging points', 333), ('fan', 333), ('light', 333), ('cupboard', 327), ('mattress (foam/cotton)', 320), ('attached bathroom', 315), ('geyser', 186), ('ac', 134), ('chair', 45)]\n"
     ]
    }
   ],
   "source": [
    "from collections import Counter\n",
    "room_counts = Counter([item for sublist in df['room_amenities'] for item in sublist])\n",
    "print(room_counts.most_common(10)) "
   ]
  },
  {
   "cell_type": "code",
   "execution_count": 973,
   "id": "9abe231c-80d9-47ef-ac53-1790669bffd7",
   "metadata": {},
   "outputs": [
    {
     "name": "stdout",
     "output_type": "stream",
     "text": [
      "Counter({'bed (cot/frame)': 333, 'charging points': 333, 'fan': 333, 'light': 333, 'cupboard': 327, 'mattress (foam/cotton)': 320, 'attached bathroom': 315, 'geyser': 186, 'ac': 134, 'chair': 45, 'television': 26, 'study table': 19, 'study table & chair': 12, 'curtains': 9, 'mirror': 5, 'ac (on request)': 4, 'safety locker': 4, 'bed sheets': 3, 'shared cupboard': 3, 'pillow': 2, 'dustbin': 1, 'geyser (seasonal)': 1})\n"
     ]
    }
   ],
   "source": [
    "from collections import Counter\n",
    "room_counts = Counter([item for sublist in df['room_amenities'] for item in sublist])\n",
    "print(room_counts) "
   ]
  },
  {
   "cell_type": "code",
   "execution_count": 976,
   "id": "39e9550e-0c2c-4b50-8620-1c7f7e83c1ba",
   "metadata": {},
   "outputs": [
    {
     "name": "stdout",
     "output_type": "stream",
     "text": [
      "Counter({'cctv': 333, 'fridge': 333, 'housekeeping': 333, 'washing machine': 333, 'water purifier': 333, 'wifi': 333, 'power backup': 292, 'tv': 114, 'room cleaning': 91, 'lift': 78, 'warden': 73, 'laundry service': 73, 'daily housekeeping': 71, 'common tv': 44, 'security': 44, 'gated security': 42, 'cctv surveillance': 40, 'cctv security': 37, 'tv (common)': 36, 'mess facility': 35, 'security guard / cctv': 35, 'wi?fi (common area)': 34, 'water purifier (ro)': 31, 'laundry': 30, 'high-speed wi?fi': 29, 'tv in common area': 27, 'mess': 26, 'guardian/warden': 23, 'microwave': 22, 'mattress': 20, 'safety lockers': 15, 'hot & cold water': 15, 'dining area': 11, 'cooking facility': 10, 'high-speed wi-fi': 10, 'ro water purifier': 10, 'guardian': 7, '24×7 security with cctv': 7, 'lift access': 6, 'lunch': 6, 'shared mess': 5, 'water purifier (if available)': 5, 'water purifier/drinking water': 4, 'high?speed wi?fi': 4, 'tv (common area)': 4, '100% power backup (ups/genset)': 4, 'dinner)': 4, 'daily housekeeping & laundry service': 4, 'power backup (ups/generator)': 4, 'common tv lounge': 4, 'drinking water': 3, 'self?cooking facility': 3, 'air conditioner (common area if not room)': 3, 'television': 3, 'common kitchen': 3, 'ac (shared)': 3, 'common lounge': 3, 'digital payments': 3, 'refrigerator (if available)': 3, 'washing machine (if available)': 3, 'dinner': 3, 'in-house mess': 3, 'filtered drinking water': 3, 'drinking water/ro': 2, 'water cooler/water purifier': 2, '24x7 power backup': 2, 'gym': 2, 'wi-fi (common area)': 2, 'breakfast': 2, 'gated community': 2, 'common lounge/recreation area': 2, 'cctv security & gated access': 2, 'common lounge with tv': 2, 'cupboard/locker': 2, 'recreation area': 2, '24/7 water supply': 1, 'ro water': 1, 'power backup (implied)': 1, 'warden service': 1, 'washing machine/laundry': 1, 'hot water': 1, 'mineral water/ro': 1, 'hot water/ro': 1, 'ac (common area)': 1, 'independent locker': 1, 'warden/room cleaning': 1, 'air conditioner (common lounge)': 1, 'independent lockers': 1, 'self-cooking facility': 1, 'gas/self-cooking': 1, 'hot water facility': 1, 'non?veg kitchen': 1, 'tv (in all rooms)': 1, 'cooking area': 1, 'shared mess / cooking area': 1, '24×7 security': 1, 'regular housekeeping': 1, 'shared refrigerator (possible)': 1, 'cctv/security': 1, 'ro/water purifier': 1, 'biometric entry': 1, 'indoor games': 1, 'purified water (ro)': 1, 'sofa in common hall': 1, 'refrigerator/water cooler': 1, 'lift (if available)': 1, 'water cooler/purifier': 1, 'water purifier/water cooler': 1, 'warden/guardian': 1, 'lunch & dinner)': 1, 'guardian/security': 1, 'house?keeper': 1, 'daily housekeeping & laundry': 1, 'fitness centre & pool (select properties)': 1, 'high-speed wi?fi & tv access': 1, 'recreation/lounge area': 1, '24×7 security with cctv & warden': 1, 'high-speed wi?fi & tv': 1, 'recreation/lounge area (tv/movie hall)': 1, 'swimming pool & fitness room': 1, 'cctv security & gated community': 1, 'cooking gas & modular kitchen': 1, 'free wi?fi': 1, 'regular water supply': 1, 'trash disposal': 1, 'free high-speed wi?fi': 1, 'water supply 24×7': 1, 'app-based assistance/customer support': 1, 'common modular kitchen with cooking gas': 1, 'round-the-clock water supply': 1, 'air conditioner (shared or in room)': 1, 'air conditioning': 1, 'daily room cleaning': 1, '24×7 security with cctv & gated entry': 1, 'power backup (ups/generators)': 1, '24×7 water': 1})\n"
     ]
    }
   ],
   "source": [
    "from collections import Counter\n",
    "room_counts = Counter([item for sublist in df['common_amenities'] for item in sublist])\n",
    "print(room_counts) "
   ]
  },
  {
   "cell_type": "markdown",
   "id": "d5896e1a-8f9f-4d73-a31a-ba4078d4f42d",
   "metadata": {},
   "source": [
    "Summary of Key Insights:\r\n",
    "Most Common Occupancy Type: 4-sharing is the most offered.\r\n",
    "\r\n",
    "Avg Rent & Deposit: ₹7.9K rent, ₹3.3K deposit on average.\r\n",
    "\r\n",
    "Rent by Occupancy: Single rooms are the most expensive.\r\n",
    "\r\n",
    "Top 5 PG Locations: Madhapur, Ameerpet, Gachibowli lead.\r\n",
    "\r\n",
    "Rent Distribution: Most PGs fall in the ₹5K–₹10K range.\r\n",
    "\r\n",
    "Food Availability: 91%+ PGs offer full meals.\r\n",
    "\r\n",
    "Parking Availability: Bike-only parking dominates (~90%).\r\n",
    "\r\n",
    "Upcoming PGs: 330 PGs will be available in the next 14 days."
   ]
  },
  {
   "cell_type": "markdown",
   "id": "568d3334-df7b-4914-bfea-7e44d82af1fd",
   "metadata": {},
   "source": [
    "🔍 Summary of Key Insights\n",
    "Most Common Occupancy Type:\n",
    "4-sharing is the most commonly offered room type.\n",
    "\n",
    "Avg Rent & Deposit:\n",
    "Average rent is ₹7.9K; average security deposit is ₹3.3K.\n",
    "\n",
    "Rent by Occupancy:\n",
    "Single rooms are the most expensive per occupant.\n",
    "\n",
    "Top 5 PG Locations:\n",
    "Madhapur, Ameerpet, and Gachibowli lead in PG availability.\n",
    "\n",
    "Rent Distribution:\n",
    "Majority of PGs fall within the ₹5K–₹10K rent range.\n",
    "\n",
    "Food Availability:\n",
    "Over 91% of PGs offer full meals (breakfast, lunch, dinner).\n",
    "\n",
    "Most Common Room Amenities:\n",
    "Top amenities include:\n",
    "\n",
    "Bed (cot/frame)\n",
    "\n",
    "Mattress (foam/cotton)\n",
    "\n",
    "Fan, light, charging point\n",
    "\n",
    "Cupboard and attached bathroom\n",
    "Basic comfort and furniture are widely standardized.\n",
    "\n",
    "Parking Availability:\n",
    "Bike-only parking is available in ~90% of PGs; car parking is rare.\n",
    "\n",
    "Upcoming PG Availability:\n",
    "330 PGs are scheduled to become available in the next 14 days."
   ]
  },
  {
   "cell_type": "code",
   "execution_count": null,
   "id": "c6197e49-1fab-40af-b85a-d81bf5698eac",
   "metadata": {},
   "outputs": [],
   "source": []
  },
  {
   "cell_type": "code",
   "execution_count": 975,
   "id": "d1cb7ece-fa9b-42b0-90cf-2ce484a543ff",
   "metadata": {},
   "outputs": [
    {
     "data": {
      "text/plain": [
       "Index(['pg_name', 'location', 'room_amenities', 'common_amenities',\n",
       "       'food_facility', 'available_from', 'posted_on', 'parking', 'occupancy',\n",
       "       'rent', 'deposit'],\n",
       "      dtype='object')"
      ]
     },
     "execution_count": 975,
     "metadata": {},
     "output_type": "execute_result"
    }
   ],
   "source": [
    "df.columns"
   ]
  },
  {
   "cell_type": "code",
   "execution_count": null,
   "id": "b9856aa6-9ba3-46b9-bbbf-cc512336163e",
   "metadata": {},
   "outputs": [],
   "source": []
  }
 ],
 "metadata": {
  "kernelspec": {
   "display_name": "Python 3 (ipykernel)",
   "language": "python",
   "name": "python3"
  },
  "language_info": {
   "codemirror_mode": {
    "name": "ipython",
    "version": 3
   },
   "file_extension": ".py",
   "mimetype": "text/x-python",
   "name": "python",
   "nbconvert_exporter": "python",
   "pygments_lexer": "ipython3",
   "version": "3.12.4"
  }
 },
 "nbformat": 4,
 "nbformat_minor": 5
}
