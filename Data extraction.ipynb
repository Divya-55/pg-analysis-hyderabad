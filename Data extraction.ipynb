{
 "cells": [
  {
   "cell_type": "code",
   "execution_count": 2,
   "id": "f3d956d4-e87e-4c33-a67c-9955e83e05f9",
   "metadata": {},
   "outputs": [],
   "source": [
    "import json\n",
    "import time\n",
    "import numpy as np\n",
    "import pandas as pd\n",
    "from selenium import webdriver\n",
    "from selenium.webdriver.common.by import By\n",
    "from selenium.webdriver.chrome.service import Service\n",
    "from selenium.webdriver.support.ui import WebDriverWait\n",
    "from selenium.webdriver.support import expected_conditions as EC\n",
    "from webdriver_manager.chrome import ChromeDriverManager"
   ]
  },
  {
   "cell_type": "code",
   "execution_count": 65,
   "id": "99a1886a-10e7-4a8f-bd74-7db282ca534c",
   "metadata": {},
   "outputs": [],
   "source": [
    "def scrape_pg_links(location_name, url, max_links=50, max_scrolls=30):\n",
    "    print(f\"\\nScraping {location_name} urls\")\n",
    "\n",
    "    options = webdriver.ChromeOptions()\n",
    "    options.add_argument(\"--start-maximized\")\n",
    "    driver = webdriver.Chrome(service=Service(ChromeDriverManager().install()), options=options)\n",
    "\n",
    "    driver.get(url)\n",
    "    time.sleep(5)\n",
    "\n",
    "    try:\n",
    "        WebDriverWait(driver, 15).until(\n",
    "            EC.presence_of_element_located((By.CSS_SELECTOR, \"h2 a\"))\n",
    "        )\n",
    "\n",
    "        last_height = driver.execute_script(\"return document.body.scrollHeight\")\n",
    "        for i in range(max_scrolls):\n",
    "            driver.execute_script(\"window.scrollTo(0, document.body.scrollHeight);\")\n",
    "            time.sleep(3)\n",
    "            new_height = driver.execute_script(\"return document.body.scrollHeight\")\n",
    "            if new_height == last_height:\n",
    "                print(\"Reached end of page.\")\n",
    "                break\n",
    "            last_height = new_height\n",
    "\n",
    "        # Extract and filter PG URLs\n",
    "        pg_links = driver.find_elements(By.CSS_SELECTOR, \"h2 a\")\n",
    "        all_urls = list(set([a.get_attribute(\"href\") for a in pg_links if a.get_attribute(\"href\")]))\n",
    "        locality_slug = location_name.lower().replace(\" \", \"-\")\n",
    "\n",
    "        filtered_urls = [url for url in all_urls if locality_slug in url]\n",
    "        print(f\"Found {len(filtered_urls)} filtered PG URLs for {location_name}\")\n",
    "\n",
    "        return filtered_urls\n",
    "\n",
    "    except Exception as e:\n",
    "        print(f\"Error scraping {location_name}: {e}\")\n",
    "        return []\n",
    "\n",
    "    finally:\n",
    "        driver.quit()\n"
   ]
  },
  {
   "cell_type": "code",
   "execution_count": 66,
   "id": "7e771c44-1ce7-4d9e-9528-51e342d17a9c",
   "metadata": {},
   "outputs": [],
   "source": [
    "with open(\"locations_url.json\", \"r\") as f:\n",
    "    data = json.load(f)\n",
    "\n",
    "locations = data[\"locations_urls\"] "
   ]
  },
  {
   "cell_type": "code",
   "execution_count": 67,
   "id": "ee332003-53ba-4984-8ff8-7d6eb588a800",
   "metadata": {},
   "outputs": [],
   "source": [
    "all_pg_links = {}"
   ]
  },
  {
   "cell_type": "code",
   "execution_count": 68,
   "id": "e47e412a-e4f2-42eb-94c8-661e62f9dc2c",
   "metadata": {},
   "outputs": [
    {
     "name": "stdout",
     "output_type": "stream",
     "text": [
      "\n",
      "Scraping Madhapur urls\n",
      "Reached end of page.\n",
      "Found 42 filtered PG URLs for Madhapur\n"
     ]
    }
   ],
   "source": [
    "all_pg_links[\"Madhapur\"] = scrape_pg_links(\"Madhapur\", locations[\"Madhapur\"])"
   ]
  },
  {
   "cell_type": "code",
   "execution_count": 69,
   "id": "af586828-da0c-4c5a-9149-18067ad0b528",
   "metadata": {},
   "outputs": [
    {
     "name": "stdout",
     "output_type": "stream",
     "text": [
      "\n",
      "Scraping Gachibowli urls\n",
      "Reached end of page.\n",
      "Found 36 filtered PG URLs for Gachibowli\n"
     ]
    }
   ],
   "source": [
    "all_pg_links[\"Gachibowli\"] = scrape_pg_links(\"Gachibowli\", locations[\"Gachibowli\"])"
   ]
  },
  {
   "cell_type": "code",
   "execution_count": 70,
   "id": "a8c1e081-d9ce-4b38-aa9d-f14ee011c59f",
   "metadata": {},
   "outputs": [
    {
     "name": "stdout",
     "output_type": "stream",
     "text": [
      "\n",
      "Scraping Kondapur urls\n",
      "Reached end of page.\n",
      "Found 24 filtered PG URLs for Kondapur\n"
     ]
    }
   ],
   "source": [
    "all_pg_links[\"Kondapur\"] = scrape_pg_links(\"Kondapur\", locations[\"Kondapur\"])"
   ]
  },
  {
   "cell_type": "code",
   "execution_count": 71,
   "id": "63703e2e-0874-4a4f-aa93-bdd3848061ee",
   "metadata": {},
   "outputs": [
    {
     "name": "stdout",
     "output_type": "stream",
     "text": [
      "\n",
      "Scraping Manikonda urls\n",
      "Reached end of page.\n",
      "Found 11 filtered PG URLs for Manikonda\n"
     ]
    }
   ],
   "source": [
    "all_pg_links[\"Manikonda\"] = scrape_pg_links(\"Manikonda\", locations[\"Manikonda\"])"
   ]
  },
  {
   "cell_type": "code",
   "execution_count": 72,
   "id": "db16939d-bb28-49ea-972f-78cdc37b9f8c",
   "metadata": {},
   "outputs": [
    {
     "name": "stdout",
     "output_type": "stream",
     "text": [
      "\n",
      "Scraping Miyapur urls\n",
      "Reached end of page.\n",
      "Found 19 filtered PG URLs for Miyapur\n"
     ]
    }
   ],
   "source": [
    "all_pg_links[\"Miyapur\"] = scrape_pg_links(\"Miyapur\", locations[\"Miyapur\"])"
   ]
  },
  {
   "cell_type": "code",
   "execution_count": 73,
   "id": "20841edc-e86f-4d7b-823e-2c15a8baa92c",
   "metadata": {},
   "outputs": [
    {
     "name": "stdout",
     "output_type": "stream",
     "text": [
      "\n",
      "Scraping Begumpet urls\n",
      "Reached end of page.\n",
      "Found 10 filtered PG URLs for Begumpet\n"
     ]
    }
   ],
   "source": [
    "all_pg_links[\"Begumpet\"] = scrape_pg_links(\"Begumpet\", locations[\"Begumpet\"])"
   ]
  },
  {
   "cell_type": "code",
   "execution_count": 74,
   "id": "aa1c026b-bb5f-4689-802a-21f746d9bddc",
   "metadata": {},
   "outputs": [
    {
     "name": "stdout",
     "output_type": "stream",
     "text": [
      "\n",
      "Scraping Ameerpet urls\n",
      "Reached end of page.\n",
      "Found 44 filtered PG URLs for Ameerpet\n"
     ]
    }
   ],
   "source": [
    "all_pg_links[\"Ameerpet\"] = scrape_pg_links(\"Ameerpet\", locations[\"Ameerpet\"])"
   ]
  },
  {
   "cell_type": "code",
   "execution_count": 75,
   "id": "1a10b2d1-e8f1-4490-8355-b38d347ee1a4",
   "metadata": {},
   "outputs": [
    {
     "name": "stdout",
     "output_type": "stream",
     "text": [
      "\n",
      "Scraping Uppal urls\n",
      "Reached end of page.\n",
      "Found 35 filtered PG URLs for Uppal\n"
     ]
    }
   ],
   "source": [
    "all_pg_links[\"Uppal\"] = scrape_pg_links(\"Uppal\", locations[\"Uppal\"])"
   ]
  },
  {
   "cell_type": "code",
   "execution_count": 76,
   "id": "cc2214d3-69c8-4636-bf0d-354734fdf0d4",
   "metadata": {},
   "outputs": [
    {
     "name": "stdout",
     "output_type": "stream",
     "text": [
      "\n",
      "Scraping Somajiguda urls\n",
      "Reached end of page.\n",
      "Found 16 filtered PG URLs for Somajiguda\n"
     ]
    }
   ],
   "source": [
    "all_pg_links[\"Somajiguda\"] = scrape_pg_links(\"Somajiguda\", locations[\"Somajiguda\"])"
   ]
  },
  {
   "cell_type": "code",
   "execution_count": 77,
   "id": "7f629fd4-1ae6-4ef8-a386-1c1fc0c8d62a",
   "metadata": {},
   "outputs": [
    {
     "name": "stdout",
     "output_type": "stream",
     "text": [
      "\n",
      "Scraping Banjara Hills urls\n",
      "Reached end of page.\n",
      "Found 11 filtered PG URLs for Banjara Hills\n"
     ]
    }
   ],
   "source": [
    "all_pg_links[\"Banjara Hills\"] = scrape_pg_links(\"Banjara Hills\", locations[\"Banjara Hills\"])"
   ]
  },
  {
   "cell_type": "code",
   "execution_count": 78,
   "id": "cfb78206-ce55-450a-9e85-f06eb3295257",
   "metadata": {},
   "outputs": [],
   "source": [
    "with open(\"pg_urls_combined.json\", \"w\") as f:\n",
    "    json.dump(all_pg_links, f, indent=4)"
   ]
  },
  {
   "cell_type": "markdown",
   "id": "9b608bd3-7d52-44f8-8ef6-074d350ea504",
   "metadata": {},
   "source": [
    "# ============================================="
   ]
  },
  {
   "cell_type": "code",
   "execution_count": 6,
   "id": "9e38132f-b85c-41b4-924b-a3aa6d8af468",
   "metadata": {},
   "outputs": [],
   "source": [
    "def scrape_pg_link_to_df(link, location=\"Unknown\"):\n",
    "    data = []\n",
    "    print(f\"\\nScraping PG: {link}\")\n",
    "\n",
    "    options = webdriver.ChromeOptions()\n",
    "    options.add_argument(\"--headless\")  # Uncomment to run without opening Chrome\n",
    "    options.add_argument(\"--no-sandbox\")\n",
    "    options.add_argument(\"--disable-dev-shm-usage\")\n",
    "    driver = webdriver.Chrome(service=Service(ChromeDriverManager().install()), options=options)\n",
    "\n",
    "    try:\n",
    "        driver.get(link)\n",
    "        WebDriverWait(driver, 15).until(EC.presence_of_element_located((By.ID, \"categoryRoomDetails\")))\n",
    "\n",
    "        pg_name = driver.find_element(By.CSS_SELECTOR, \"h1\").text.strip()\n",
    "\n",
    "        try:\n",
    "            food_facility = driver.find_element(By.CSS_SELECTOR, \"#details-summary-foodIncluded\").text.strip()\n",
    "        except:\n",
    "            food_facility = np.nan\n",
    "\n",
    "        try:\n",
    "            available_from = driver.find_element(By.CSS_SELECTOR, \"#details-summary-availableFrom\").text.strip()\n",
    "        except:\n",
    "            available_from = np.nan\n",
    "\n",
    "        try:\n",
    "            posted_on = driver.find_element(By.CSS_SELECTOR, \"#details-summary-lastUpdateDate\").text.strip()\n",
    "        except:\n",
    "            posted_on = np.nan\n",
    "\n",
    "        try:\n",
    "            gate_closing_time = driver.find_element(By.CSS_SELECTOR, \"#details-summary-gateClosingTime\").text.strip()\n",
    "        except:\n",
    "            gate_closing_time = np.nan\n",
    "\n",
    "        try:\n",
    "            parking = driver.find_element(By.CSS_SELECTOR, \"#details-summary-parkingDesc\").text.strip()\n",
    "        except:\n",
    "            parking = np.nan\n",
    "\n",
    "        try:\n",
    "            items = [a.text.strip() for a in driver.find_elements(By.CSS_SELECTOR, \".nb__1ZTzO\") if a.text.strip()]\n",
    "            common_amenities = ', '.join(items)\n",
    "        except:\n",
    "            common_amenities = np.nan\n",
    "\n",
    "        room_blocks = driver.find_elements(By.CSS_SELECTOR, \"#categoryRoomDetails > div.nb__3MF7Q\")\n",
    "\n",
    "        for block in room_blocks:\n",
    "            try:\n",
    "                try:\n",
    "                    sharing_details = block.find_element(By.CSS_SELECTOR, \".nb__3Qdtl\").text.strip()\n",
    "                except:\n",
    "                    sharing_details = np.nan\n",
    "\n",
    "                try:\n",
    "                    items = [a.text.strip() for a in block.find_elements(By.CSS_SELECTOR, \".roomAmenities [class*='nb__']\") if a.text.strip()]\n",
    "                    room_amenities = ', '.join(items)\n",
    "                except:\n",
    "                    room_amenities = np.nan\n",
    "\n",
    "                data.append({\n",
    "                    \"pg_name\": pg_name,\n",
    "                    \"location\": location,\n",
    "                    \"source_url\": link,\n",
    "                    \"sharing_details\": sharing_details,\n",
    "                    \"room_amenities\": room_amenities,\n",
    "                    \"common_amenities\": common_amenities,\n",
    "                    \"food_facility\": food_facility,\n",
    "                    \"available_from\": available_from,\n",
    "                    \"posted_on\": posted_on,\n",
    "                    \"gate_closing_time\": gate_closing_time,\n",
    "                    \"parking\": parking\n",
    "                })\n",
    "\n",
    "            except Exception as e:\n",
    "                print(f\"couldn't extract room sharing block: {e}\")\n",
    "\n",
    "    except Exception as e:\n",
    "        print(f\"could not load the page: {e}\")\n",
    "\n",
    "    finally:\n",
    "        driver.quit()\n",
    "\n",
    "    # Return as DataFrame\n",
    "    return pd.DataFrame(data)\n"
   ]
  },
  {
   "cell_type": "code",
   "execution_count": 7,
   "id": "d3e93e80-b025-4621-9565-0a8557c15152",
   "metadata": {},
   "outputs": [],
   "source": [
    "with open(\"pg_urls_combined.json\", \"r\") as f:\n",
    "    pg_data = json.load(f)"
   ]
  },
  {
   "cell_type": "code",
   "execution_count": 8,
   "id": "10ce3dbd-f29d-437b-aa3a-4566afe057b6",
   "metadata": {},
   "outputs": [],
   "source": [
    "def scrape_location_links_to_df(location, pg_data):\n",
    "    print(f\"Scraping PGs for location: {location} ({len(pg_data[location])} links)\")\n",
    "    location_data = []\n",
    "\n",
    "    for link in pg_data[location]:\n",
    "        try:\n",
    "            df = scrape_pg_link_to_df(link, location=location)\n",
    "            if not df.empty:\n",
    "                location_data.append(df)\n",
    "            time.sleep(2)\n",
    "        except Exception as e:\n",
    "            print(f\"Error scraping link:\\n{link}\\n{e}\")\n",
    "\n",
    "    if location_data:\n",
    "        final_df = pd.concat(location_data, ignore_index=True)\n",
    "        print(f\"Scraped {len(final_df)} rows for {location}\")\n",
    "        return final_df\n",
    "    else:\n",
    "        print(f\"No data scraped for {location}\")\n",
    "        return pd.DataFrame()\n"
   ]
  },
  {
   "cell_type": "code",
   "execution_count": 9,
   "id": "4cd4b4b6-0515-403f-953e-66dddd52854d",
   "metadata": {
    "scrolled": true
   },
   "outputs": [
    {
     "name": "stdout",
     "output_type": "stream",
     "text": [
      "Scraping PGs for location: Madhapur (42 links)\n",
      "\n",
      "Scraping PG: https://www.nobroker.in/property/pg/pg-hostel-for-girls-in-madhapur-hyderabad-for-rs-7500/8a9fa98494d4867c0194d4b1e76f10d6/detail\n",
      "\n",
      "Scraping PG: https://www.nobroker.in/property/pg/pg-hostel-for-boys-in-madhapur-hyderabad-for-rs-9000/8a9fae82793253b60179327acb7c0f7f/detail\n",
      "\n",
      "Scraping PG: https://www.nobroker.in/property/pg/pg-hostel-for-boys-in-madhapur-hyderabad-for-rs-8500/8a9faf839420400f019420b169f72006/detail\n",
      "\n",
      "Scraping PG: https://www.nobroker.in/property/pg/pg-hostel-for-girls-in-madhapur-hyderabad-for-rs-8000/8a9f82de765132e40176513ad4360243/detail\n",
      "\n",
      "Scraping PG: https://www.nobroker.in/property/pg/pg-hostel-for-anyone-in-madhapur-hyderabad-for-rs-9000/8a9fbc839588bd210195892559822c07/detail\n",
      "\n",
      "Scraping PG: https://www.nobroker.in/property/pg/pg-hostel-for-girls-in-madhapur-hyderabad-for-rs-6500/8a9ff88285de152f0185de32613410e8/detail\n",
      "\n",
      "Scraping PG: https://www.nobroker.in/property/pg/pg-hostel-for-boys-in-madhapur-hyderabad-for-rs-7000/8a9f918a972ac7f701972b1553492664/detail\n",
      "\n",
      "Scraping PG: https://www.nobroker.in/property/pg/pg-hostel-for-girls-in-madhapur-hyderabad-for-rs-8000/8a9fac8595b1882b0195b1bd2d770b39/detail\n",
      "\n",
      "Scraping PG: https://www.nobroker.in/property/pg/pg-hostel-for-girls-in-madhapur-hyderabad-for-rs-9000/ff8081816c40d097016c411a1736231b/detail\n",
      "\n",
      "Scraping PG: https://www.nobroker.in/property/pg/pg-hostel-for-boys-in-madhapur-hyderabad-for-rs-9000/8a9fa98395ef4e3b0195ef69ef370578/detail\n",
      "\n",
      "Scraping PG: https://www.nobroker.in/property/pg/pg-hostel-for-girls-in-madhapur--hyderabad-for-rs-8500/8a9fba8395c388990195c3b38dac0b20/detail\n",
      "\n",
      "Scraping PG: https://www.nobroker.in/property/pg/pg-hostel-for-boys-in-madhapur-hyderabad-for-rs-7000/8a9f92827cf4b413017cf51290663a3b/detail\n",
      "\n",
      "Scraping PG: https://www.nobroker.in/property/pg/pg-hostel-for-anyone-in-madhapur-hyderabad-for-rs-15000/8a9fb18278871b9f0178872bcf120719/detail\n",
      "\n",
      "Scraping PG: https://www.nobroker.in/property/pg/pg-hostel-for-girls-in-madhapur-hyderabad-for-rs-7500/8a9f8f8c6f8af068016f8eefc2235bd8/detail\n",
      "\n",
      "Scraping PG: https://www.nobroker.in/property/pg/pg-hostel-for-girls-in-madhapur-hyderabad-for-rs-8500/8a9fd082812e2bb601812e631bec29ac/detail\n",
      "\n",
      "Scraping PG: https://www.nobroker.in/property/pg/pg-hostel-for-boys-in-madhapur-hyderabad-for-rs-8000/8a9f898395f99af00195f9c135fc075b/detail\n",
      "\n",
      "Scraping PG: https://www.nobroker.in/property/pg/pg-hostel-for-boys-in-madhapur-hyderabad-for-rs-7500/8a9f8d8395d0d6070195d16aae124954/detail\n",
      "\n",
      "Scraping PG: https://www.nobroker.in/property/pg/pg-hostel-for-girls-in-madhapur-hyderabad-for-rs-6500/8a9f97439260a4bb019260b5c93305c5/detail\n",
      "\n",
      "Scraping PG: https://www.nobroker.in/property/pg/pg-hostel-for-girls-in-madhapur-hyderabad-for-rs-7000/8a9f87038df97945018df987d6f506b9/detail\n",
      "\n",
      "Scraping PG: https://www.nobroker.in/property/pg/pg-hostel-for-boys-in-madhapur-hyderabad-for-rs-7000/8a9f859d8fb8005c018fb8539182133c/detail\n",
      "\n",
      "Scraping PG: https://www.nobroker.in/property/pg/pg-hostel-for-boys-in-madhapur-hyderabad-for-rs-13500/8a9f90838fe73771018fe7594e791122/detail\n",
      "\n",
      "Scraping PG: https://www.nobroker.in/property/pg/pg-hostel-for-girls-in-madhapur-hyderabad-for-rs-8500/8a9faf8497baeded0197bb43314127f0/detail\n",
      "\n",
      "Scraping PG: https://www.nobroker.in/property/pg/pg-hostel-for-girls-in-madhapur-hyderabad-for-rs-6500/8a9f8584968f852601968fa0eb0c0ad9/detail\n",
      "\n",
      "Scraping PG: https://www.nobroker.in/property/pg/pg-hostel-for-girls-in-madhapur-hyderabad-for-rs-6500/8a9fb7838bf50f8f018bf5bf2dfa65df/detail\n",
      "\n",
      "Scraping PG: https://www.nobroker.in/property/pg/pg-hostel-for-boys-in-madhapur-hyderabad-for-rs-8000/8a9fa5838c758d9f018c767942ff0954/detail\n",
      "\n",
      "Scraping PG: https://www.nobroker.in/property/pg/pg-hostel-for-anyone-in-madhapur-hyderabad-for-rs-10000/8a9f8e8597c3951c0197c3f9acc60a26/detail\n",
      "\n",
      "Scraping PG: https://www.nobroker.in/property/pg/pg-hostel-for-girls-in-madhapur-hyderabad-for-rs-14000/8a9f938594f893360194f8999bdd0150/detail\n",
      "\n",
      "Scraping PG: https://www.nobroker.in/property/pg/pg-hostel-for-boys-in-madhapur-hyderabad-for-rs-8000/ff8081816ce8b98b016cec39454469fc/detail\n",
      "\n",
      "Scraping PG: https://www.nobroker.in/property/pg/pg-hostel-for-girls-in-madhapur-hyderabad-for-rs-9500/8a9faf827ff40859017ff4564d10310b/detail\n",
      "\n",
      "Scraping PG: https://www.nobroker.in/property/pg/pg-hostel-for-anyone-in-madhapur-hyderabad-for-rs-9000/8a9fbc8393fbc5650193fc12b8d00dce/detail\n",
      "\n",
      "Scraping PG: https://www.nobroker.in/property/pg/pg-hostel-for-boys-in--madhapur-hyderabad-for-rs-8000/8a9fa28596b9e4160196ba218b37191b/detail\n",
      "\n",
      "Scraping PG: https://www.nobroker.in/property/pg/pg-hostel-for-girls-in-madhapur-hyderabad-for-rs-16500/8a9fb78594c6616c0194c670591d0520/detail\n",
      "\n",
      "Scraping PG: https://www.nobroker.in/property/pg/pg-hostel-for-girls-in-madhapur-hyderabad-for-rs-12000/8a9f8ec39356f9de0193570fdb1d047b/detail\n",
      "\n",
      "Scraping PG: https://www.nobroker.in/property/pg/pg-hostel-for-boys-in-madhapur-hyderabad-for-rs-15000/8a9f8f85929ee73401929f534942206a/detail\n",
      "\n",
      "Scraping PG: https://www.nobroker.in/property/pg/pg-hostel-for-girls-in-madhapur--hyderabad-for-rs-10000/8a9f8f0393056fe70193057af9d4030f/detail\n",
      "\n",
      "Scraping PG: https://www.nobroker.in/property/pg/pg-hostel-for-boys-in-madhapur-hyderabad-for-rs-7000/8a9fa39c775349cf0177571afc44295a/detail\n",
      "\n",
      "Scraping PG: https://www.nobroker.in/property/pg/pg-hostel-for-girls-in-madhapur-hyderabad-for-rs-12000/8a9f968284f5b3b20184f60260423740/detail\n",
      "\n",
      "Scraping PG: https://www.nobroker.in/property/pg/pg-hostel-for-girls-in-madhapur-hyderabad-for-rs-8000/8a9fa0838bf4cdae018bf5466c0e1d6b/detail\n",
      "\n",
      "Scraping PG: https://www.nobroker.in/property/pg/pg-hostel-for-boys-in-madhapur-hyderabad-for-rs-9000/8a9f8c8497baede40197bb41bc57255b/detail\n",
      "\n",
      "Scraping PG: https://www.nobroker.in/property/pg/pg-hostel-for-boys-in-madhapur-hyderabad-for-rs-9500/8a9fa78394f81d2d0194f89aa37b20d5/detail\n",
      "\n",
      "Scraping PG: https://www.nobroker.in/property/pg/pg-hostel-for-boys-in-madhapur-hyderabad-for-rs-9000/8a9fab827daccfd5017dad58720b6db4/detail\n",
      "\n",
      "Scraping PG: https://www.nobroker.in/property/pg/pg-hostel-for-girls-in-madhapur-hyderabad-for-rs-7000/8a9fae8497b6352a0197b694ded034bf/detail\n",
      "Scraped 58 rows for Madhapur\n"
     ]
    }
   ],
   "source": [
    "madhapur_df = scrape_location_links_to_df(\"Madhapur\", pg_data)\n",
    "madhapur_df.to_csv(\"pg_data_madhapur.csv\", index=False)"
   ]
  },
  {
   "cell_type": "code",
   "execution_count": 10,
   "id": "e3f5a661-d876-4bf4-b179-e58e6efcdafe",
   "metadata": {
    "scrolled": true
   },
   "outputs": [
    {
     "name": "stdout",
     "output_type": "stream",
     "text": [
      "Scraping PGs for location: Gachibowli (36 links)\n",
      "\n",
      "Scraping PG: https://www.nobroker.in/property/pg/pg-hostel-for-boys-in-gachibowli-hyderabad-for-rs-7500/8a9f8e439053cb3f01905418051027df/detail\n",
      "\n",
      "Scraping PG: https://www.nobroker.in/property/pg/pg-hostel-for-boys-in--gachibowli-hyderabad-for-rs-25500/8a9fb6827fa6c911017fa70be8e82c6e/detail\n",
      "\n",
      "Scraping PG: https://www.nobroker.in/property/pg/pg-hostel-for-boys-in-gachibowli-hyderabad-for-rs-12000/8a9f0f8287ea151a0187ea47711b1a0b/detail\n",
      "\n",
      "Scraping PG: https://www.nobroker.in/property/pg/pg-hostel-for-boys-in-gachibowli-hyderabad-for-rs-10000/8a9f80836fb20059016fb2c7faea22ca/detail\n",
      "\n",
      "Scraping PG: https://www.nobroker.in/property/pg/pg-hostel-for-girls-in-gachibowli-hyderabad-for-rs-7000/8a9f8f8391eeea9b0191eef7eed1036c/detail\n",
      "\n",
      "Scraping PG: https://www.nobroker.in/property/pg/pg-hostel-for-girls-in-gachibowli-hyderabad-for-rs-22000/8a9fba83959e322e01959e52eab70d81/detail\n",
      "\n",
      "Scraping PG: https://www.nobroker.in/property/pg/pg-hostel-for-boys-in-gachibowli-hyderabad-for-rs-7500/8a9fa783940c141f01940c5692c81bf8/detail\n",
      "\n",
      "Scraping PG: https://www.nobroker.in/property/pg/pg-hostel-for-girls-in-gachibowli-hyderabad-for-rs-9500/ff8081816b74a761016b7507c4384c05/detail\n",
      "\n",
      "Scraping PG: https://www.nobroker.in/property/pg/pg-hostel-for-boys-in-gachibowli-hyderabad-for-rs-11000/8a9fbe8287145ccf0187146680ab01d8/detail\n",
      "\n",
      "Scraping PG: https://www.nobroker.in/property/pg/pg-hostel-for-girls-in-gachibowli-hyderabad-for-rs-8500/8a9fb382844bc05b01844bf2d0cc2a19/detail\n",
      "\n",
      "Scraping PG: https://www.nobroker.in/property/pg/pg-hostel-for-girls-in-gachibowli-hyderabad-for-rs-7000/8a9f933575ea43940175ea9ad1c91e9c/detail\n",
      "\n",
      "Scraping PG: https://www.nobroker.in/property/pg/pg-hostel-for-boys-in-gachibowli-hyderabad-for-rs-8500/8a9f938497ba12100197ba3938121131/detail\n",
      "\n",
      "Scraping PG: https://www.nobroker.in/property/pg/pg-hostel-for-girls-in-gachibowli-hyderabad-for-rs-7500/8a9f9b83958ebf8d01958ed89cc6096d/detail\n",
      "\n",
      "Scraping PG: https://www.nobroker.in/property/pg/pg-hostel-for-girls-in-gachibowli-hyderabad-for-rs-6000/ff8081816bc22c47016bc57514a653f6/detail\n",
      "\n",
      "Scraping PG: https://www.nobroker.in/property/pg/pg-hostel-for-boys-in-gachibowli-hyderabad-for-rs-7000/8a9f9d8394218973019421d1cb7f13f4/detail\n",
      "\n",
      "Scraping PG: https://www.nobroker.in/property/pg/pg-hostel-for-girls-in-f928%2b9v4-anjaiah-nagar-gachibowli-hyderabad-telangana-500081-india-hyderabad-for-rs-7000/8a9f8c83936d4ab801936d82642115c7/detail\n",
      "\n",
      "Scraping PG: https://www.nobroker.in/property/pg/pg-hostel-for-boys-in-gachibowli-hyderabad-for-rs-7000/8a9f88838f2ead93018f2eed0aa82b48/detail\n",
      "\n",
      "Scraping PG: https://www.nobroker.in/property/pg/pg-hostel-for-boys-in-gachibowli-hyderabad-for-rs-9000/8a9f99838baf21b9018bb25bc2bf197a/detail\n",
      "\n",
      "Scraping PG: https://www.nobroker.in/property/pg/pg-hostel-for-boys-in-gachibowli-hyderabad-for-rs-6000/8a9f918497b6350f0197b69391cb34cb/detail\n",
      "\n",
      "Scraping PG: https://www.nobroker.in/property/pg/pg-hostel-for-boys-in-gachibowli-hyderabad-for-rs-6000/8a9fab82809962b60180997628510965/detail\n",
      "\n",
      "Scraping PG: https://www.nobroker.in/property/pg/pg-hostel-for-girls-in-gachibowli-hyderabad-for-rs-10000/ff8081816ce0e76b016ce1991e00276e/detail\n",
      "\n",
      "Scraping PG: https://www.nobroker.in/property/pg/pg-hostel-for-girls-in-gachibowli-hyderabad-for-rs-7500/8a9f85b68f2eacc2018f2eec93082b8b/detail\n",
      "\n",
      "Scraping PG: https://www.nobroker.in/property/pg/pg-hostel-for-boys-in-gachibowli-hyderabad-for-rs-7000/8a9f8a859618875c019618b43d16078e/detail\n",
      "\n",
      "Scraping PG: https://www.nobroker.in/property/pg/pg-hostel-for-boys-in-gachibowli-hyderabad-for-rs-7000/8a9fa1849420ad97019420c079be04ee/detail\n",
      "\n",
      "Scraping PG: https://www.nobroker.in/property/pg/pg-hostel-for-boys-in-gachibowli-hyderabad-for-rs-8000/8a9fe84585f72f3f0185f7cce3100520/detail\n",
      "\n",
      "Scraping PG: https://www.nobroker.in/property/pg/pg-hostel-for-girls-in-gachibowli-hyderabad-for-rs-8500/8a9f878896b830620196b856578207fe/detail\n",
      "\n",
      "Scraping PG: https://www.nobroker.in/property/pg/pg-hostel-for-girls-in-gachibowli-hyderabad-for-rs-7000/ff8081816cd2a782016cd377d5e84dc9/detail\n",
      "\n",
      "Scraping PG: https://www.nobroker.in/property/pg/pg-hostel-for-boys-in-gachibowli-hyderabad-for-rs-7500/8a9f90838baf21d6018bb24d6560145d/detail\n",
      "\n",
      "Scraping PG: https://www.nobroker.in/property/pg/pg-hostel-for-girls-in-gachibowli-hyderabad-for-rs-10000/8a9f939d6f8a53de016f8a63b1c102a1/detail\n",
      "\n",
      "Scraping PG: https://www.nobroker.in/property/pg/pg-hostel-for-girls-in-gachibowli-hyderabad-for-rs-10500/8a9fae838c7c6e95018c7c9e669d2331/detail\n",
      "\n",
      "Scraping PG: https://www.nobroker.in/property/pg/pg-hostel-for-boys-in-gachibowli-hyderabad-for-rs-4800/8a9f918497aa9f030197aae2d8e824b8/detail\n",
      "\n",
      "Scraping PG: https://www.nobroker.in/property/pg/pg-hostel-for-girls-in-gachibowli-hyderabad-for-rs-8500/8a9fa18597b561ef0197b56a80a103bf/detail\n",
      "\n",
      "Scraping PG: https://www.nobroker.in/property/pg/pg-hostel-for-girls-in-gachibowli-hyderabad-for-rs-13500/ff8081816c3cb013016c3d61003743b7/detail\n",
      "\n",
      "Scraping PG: https://www.nobroker.in/property/pg/pg-hostel-for-girls-in-gachibowli-hyderabad-for-rs-null/8a9fb08497c6161f0197c625d08c04a7/detail\n",
      "\n",
      "Scraping PG: https://www.nobroker.in/property/pg/pg-hostel-for-girls-in-gachibowli-hyderabad-for-rs-8000/8a9fec8286dfcc2e0186e013274c2731/detail\n",
      "\n",
      "Scraping PG: https://www.nobroker.in/property/pg/pg-hostel-for-boys-in-gachibowli-hyderabad-for-rs-12500/8a9fac839588bd4e019588e3221f0e16/detail\n",
      "Scraped 52 rows for Gachibowli\n"
     ]
    }
   ],
   "source": [
    "Gachibowli_df = scrape_location_links_to_df(\"Gachibowli\", pg_data)\n",
    "Gachibowli_df.to_csv(\"pg_data_Gachibowli.csv\", index=False)"
   ]
  },
  {
   "cell_type": "code",
   "execution_count": 11,
   "id": "c9ca4160-a78d-43c9-97a7-3551ab3b0bf6",
   "metadata": {
    "scrolled": true
   },
   "outputs": [
    {
     "name": "stdout",
     "output_type": "stream",
     "text": [
      "Scraping PGs for location: Kondapur (24 links)\n",
      "\n",
      "Scraping PG: https://www.nobroker.in/property/pg/pg-hostel-for-boys-in-kondapur-hyderabad-for-rs-6500/8a9fd68283d11f3b0183d1670a1d2d85/detail\n",
      "\n",
      "Scraping PG: https://www.nobroker.in/property/pg/pg-hostel-for-girls-in-kondapur-hyderabad-for-rs-9500/8a9f88c38c8f4d0e018c9042955b7178/detail\n",
      "\n",
      "Scraping PG: https://www.nobroker.in/property/pg/pg-hostel-for-boys-in-kondapur-hyderabad-for-rs-7500/ff8081816bc6167d016bc67107ac4d3d/detail\n",
      "\n",
      "Scraping PG: https://www.nobroker.in/property/pg/pg-hostel-for-boys-in-kondapur-hyderabad-for-rs-8000/8a9fa0838c33d862018c33f80b061346/detail\n",
      "\n",
      "Scraping PG: https://www.nobroker.in/property/pg/pg-hostel-for-anyone-in-2nd-a-street-opp-lane-to-s-mart-super-market-raja-rajeshwara-nagar-kondapur-telangana-500084-india-hyderabad-for-rs-12000/8a9fae8395568715019556b5a284142a/detail\n",
      "\n",
      "Scraping PG: https://www.nobroker.in/property/pg/pg-hostel-for-anyone-in-kondapur-hyderabad-for-rs-null/8a9f878497ba11a50197ba4f6cb61bfc/detail\n",
      "\n",
      "Scraping PG: https://www.nobroker.in/property/pg/pg-hostel-for-boys-in-kondapur-hyderabad-for-rs-7500/8a9fb08497af57920197afa8a0f816e9/detail\n",
      "\n",
      "Scraping PG: https://www.nobroker.in/property/pg/pg-hostel-for-girls-in-kondapur-hyderabad-for-rs-8000/8a9fd282858b0aa801858b5b22fd4303/detail\n",
      "\n",
      "Scraping PG: https://www.nobroker.in/property/pg/pg-hostel-for-boys-in-kondapur--hyderabad-for-rs-7000/8a9faf8395c23eb20195c279eb671b62/detail\n",
      "\n",
      "Scraping PG: https://www.nobroker.in/property/pg/pg-hostel-for-anyone-in-kondapur-hyderabad-for-rs-12500/8a9fba8395f775a00195f7adafa70b4f/detail\n",
      "\n",
      "Scraping PG: https://www.nobroker.in/property/pg/pg-hostel-for-girls-in-kondapur-hyderabad-for-rs-8000/ff8081816eedae0a016eee6b3fa872ed/detail\n",
      "\n",
      "Scraping PG: https://www.nobroker.in/property/pg/pg-hostel-for-boys-in-kondapur-hyderabad-for-rs-6500/8a9fa183967fee67019680516bba28f2/detail\n",
      "\n",
      "Scraping PG: https://www.nobroker.in/property/pg/pg-hostel-for-boys-in--kondapur-hyderabad-for-rs-8500/8a9fe0828778251b018778b71f7a26c0/detail\n",
      "\n",
      "Scraping PG: https://www.nobroker.in/property/pg/pg-hostel-for-boys-in-kondapur-hyderabad-for-rs-6500/8a9fab8594b60cc10194b623473d08ca/detail\n",
      "\n",
      "Scraping PG: https://www.nobroker.in/property/pg/pg-hostel-for-boys-in-kondapur-hyderabad-for-rs-10000/ff8081816d4c6fac016d4d22b0af3529/detail\n",
      "\n",
      "Scraping PG: https://www.nobroker.in/property/pg/pg-hostel-for-boys-in-kondapur-hyderabad-for-rs-8500/8a9f94838b8dcf8b018b8e49c7702561/detail\n",
      "\n",
      "Scraping PG: https://www.nobroker.in/property/pg/pg-hostel-for-girls-in-kondapur-hyderabad-for-rs-7500/8a9fa983952ce65401952d50ca6b2d6a/detail\n",
      "\n",
      "Scraping PG: https://www.nobroker.in/property/pg/pg-hostel-for-girls-in-kondapur-hyderabad-for-rs-8000/ff8081816c3d6ca0016c3da0b8f93f56/detail\n",
      "\n",
      "Scraping PG: https://www.nobroker.in/property/pg/pg-hostel-for-girls-in-kondapur-hyderabad-for-rs-6500/8a9fb98594b60ba70194b6234bbe08ee/detail\n",
      "\n",
      "Scraping PG: https://www.nobroker.in/property/pg/pg-hostel-for-boys-in-kondapur-hyderabad-for-rs-7500/8a9fb6827db99a53017dbc70651b077d/detail\n",
      "\n",
      "Scraping PG: https://www.nobroker.in/property/pg/pg-hostel-for-girls-in-kondapur-hyderabad-for-rs-8000/8a9f8d84977d908f01977ddf8e6e1c28/detail\n",
      "\n",
      "Scraping PG: https://www.nobroker.in/property/pg/pg-hostel-for-anyone-in-kondapur-hyderabad-for-rs-10500/8a9f85838e3bc71c018e3c44a7925665/detail\n",
      "\n",
      "Scraping PG: https://www.nobroker.in/property/pg/pg-hostel-for-girls-in-kondapur-hyderabad-for-rs-6300/8a9f84c38cb0c6ae018cb1c17ed96e1f/detail\n",
      "\n",
      "Scraping PG: https://www.nobroker.in/property/pg/pg-hostel-for-boys-in-kondapur-hyderabad-for-rs-8000/8a9f8a8a977da37101977de0db4915ce/detail\n",
      "Scraped 35 rows for Kondapur\n"
     ]
    }
   ],
   "source": [
    "Kondapur_df = scrape_location_links_to_df(\"Kondapur\", pg_data)\n",
    "Kondapur_df.to_csv(\"pg_data_Kondapur.csv\", index=False)"
   ]
  },
  {
   "cell_type": "code",
   "execution_count": 12,
   "id": "b53da4fb-2107-4c84-b0a8-3b61c3b95eaa",
   "metadata": {
    "scrolled": true
   },
   "outputs": [
    {
     "name": "stdout",
     "output_type": "stream",
     "text": [
      "Scraping PGs for location: Manikonda (11 links)\n",
      "\n",
      "Scraping PG: https://www.nobroker.in/property/pg/pg-hostel-for-girls-in-manikonda-hyderabad-for-rs-8000/8a9f8ec38e36a0ac018e36e007bb284d/detail\n",
      "\n",
      "Scraping PG: https://www.nobroker.in/property/pg/pg-hostel-for-boys-in-manikonda-jagir-hyderabad-for-rs-9000/8a9fed828533c2bf018533d62f200957/detail\n",
      "\n",
      "Scraping PG: https://www.nobroker.in/property/pg/pg-hostel-for-girls-in-manikonda-hyderabad-for-rs-6500/8a9f8e8497afc5030197afd940a10840/detail\n",
      "\n",
      "Scraping PG: https://www.nobroker.in/property/pg/pg-hostel-for-boys-in-manikonda-hyderabad-for-rs-7000/ff8081816c296778016c2cfce8207097/detail\n",
      "\n",
      "Scraping PG: https://www.nobroker.in/property/pg/pg-hostel-for-girls-in-manikonda-hyderabad-for-rs-7000/8a9f8ec3936c012d01936c6823fd2f82/detail\n",
      "\n",
      "Scraping PG: https://www.nobroker.in/property/pg/pg-hostel-for-girls-in-manikonda-jagir-hyderabad-for-rs-7000/8a9fa5827cc1d964017cc587ce3004db/detail\n",
      "\n",
      "Scraping PG: https://www.nobroker.in/property/pg/pg-hostel-for-boys-in-manikonda-hyderabad-for-rs-8000/ff8081816ba1baad016ba2ccc4e744f8/detail\n",
      "\n",
      "Scraping PG: https://www.nobroker.in/property/pg/pg-hostel-for-boys-in-manikonda-jagir-hyderabad-for-rs-8000/8a9fd88285f7d50f0185f82281f13b47/detail\n",
      "\n",
      "Scraping PG: https://www.nobroker.in/property/pg/pg-hostel-for-girls-in-manikonda-hyderabad-for-rs-8000/ff8081816b98f553016b9904f74a0f59/detail\n",
      "\n",
      "Scraping PG: https://www.nobroker.in/property/pg/pg-hostel-for-boys-in-manikonda-hyderabad-for-rs-9000/8a9f8c8497afc5050197afd9213d0789/detail\n",
      "\n",
      "Scraping PG: https://www.nobroker.in/property/pg/pg-hostel-for-boys-in-manikonda-hyderabad-for-rs-7000/8a9fa785975cff2601975d51570c1460/detail\n",
      "Scraped 12 rows for Manikonda\n"
     ]
    }
   ],
   "source": [
    "Manikonda_df = scrape_location_links_to_df(\"Manikonda\", pg_data)\n",
    "Manikonda_df.to_csv(\"pg_data_Manikonda.csv\", index=False)"
   ]
  },
  {
   "cell_type": "code",
   "execution_count": 13,
   "id": "5446e371-6cdf-4598-86c8-b1aee601a3a3",
   "metadata": {
    "scrolled": true
   },
   "outputs": [
    {
     "name": "stdout",
     "output_type": "stream",
     "text": [
      "Scraping PGs for location: Miyapur (19 links)\n",
      "\n",
      "Scraping PG: https://www.nobroker.in/property/pg/pg-hostel-for-boys-in-miyapur-hyderabad-for-rs-6000/8a9f8a439209f40c01920a0cfee80643/detail\n",
      "\n",
      "Scraping PG: https://www.nobroker.in/property/pg/pg-hostel-for-girls-in-miyapur-hyderabad-for-rs-5500/8a9f84438dd8e431018dd9c58acc1149/detail\n",
      "\n",
      "Scraping PG: https://www.nobroker.in/property/pg/pg-hostel-for-boys-in-miyapur-hyderabad-for-rs-null/8a9fbb8395b7a40e0195b7e592101789/detail\n",
      "\n",
      "Scraping PG: https://www.nobroker.in/property/pg/pg-hostel-for-boys-in-miyapur-hyderabad-for-rs-7000/ff8081816daf0b42016daf307ca81938/detail\n",
      "\n",
      "Scraping PG: https://www.nobroker.in/property/pg/pg-hostel-for-girls-in-miyapur-hyderabad-for-rs-7500/8a9f8243939f12e501939f58f8081174/detail\n",
      "\n",
      "Scraping PG: https://www.nobroker.in/property/pg/pg-hostel-for-boys-in-miyapur-hyderabad-for-rs-6500/8a9f8cc493ce47c70193ce9895e11e98/detail\n",
      "\n",
      "Scraping PG: https://www.nobroker.in/property/pg/pg-hostel-for-boys-in-miyapur-hyderabad-for-rs-5100/8a9fbc8389edf5e70189ee0f436f13a6/detail\n",
      "\n",
      "Scraping PG: https://www.nobroker.in/property/pg/pg-hostel-for-girls-in-miyapur-hyderabad-for-rs-6500/8a9f93038ea3a1be018ea412614545b9/detail\n",
      "\n",
      "Scraping PG: https://www.nobroker.in/property/pg/pg-hostel-for-boys-in-miyapur-hyderabad-for-rs-5500/8a9f8a827ea0c912017ea12854b13a0d/detail\n",
      "\n",
      "Scraping PG: https://www.nobroker.in/property/pg/pg-hostel-for-boys-in-miyapur-hyderabad-for-rs-6500/8a9ff98389ecac440189edd71b8a5b18/detail\n",
      "\n",
      "Scraping PG: https://www.nobroker.in/property/pg/pg-hostel-for-boys-in-miyapur-hyderabad-for-rs-5500/8a9f8803916972fd019169c1448a21b0/detail\n",
      "\n",
      "Scraping PG: https://www.nobroker.in/property/pg/pg-hostel-for-boys-in-miyapur-hyderabad-for-rs-9000/8a9fac8495c687ef0195c69fd82b0873/detail\n",
      "\n",
      "Scraping PG: https://www.nobroker.in/property/pg/pg-hostel-for-boys-in-miyapur-hyderabad-for-rs-6000/8a9fa4828576714e018577160fd10154/detail\n",
      "\n",
      "Scraping PG: https://www.nobroker.in/property/pg/pg-hostel-for-boys-in-miyapur-hyderabad-for-rs-6500/8a9f9a8697b9abf30197b9c9c7ae0763/detail\n",
      "\n",
      "Scraping PG: https://www.nobroker.in/property/pg/pg-hostel-for-boys-in-miyapur-hyderabad-for-rs-5500/8a9f0a8287bc83850187bc91b3f6058b/detail\n",
      "\n",
      "Scraping PG: https://www.nobroker.in/property/pg/pg-hostel-for-boys-in-miyapur-hyderabad-for-rs-5500/8a9f85838db4d7c4018db54eefbe2dcf/detail\n",
      "\n",
      "Scraping PG: https://www.nobroker.in/property/pg/pg-hostel-for-girls-in--miyapur-hyderabad-for-rs-null/8a9f8e84907d6a6d01907d8a0fbd122d/detail\n",
      "\n",
      "Scraping PG: https://www.nobroker.in/property/pg/pg-hostel-for-boys-in-miyapur-hyderabad-for-rs-5500/8a9fc6828249698e0182497df20e0eb1/detail\n",
      "\n",
      "Scraping PG: https://www.nobroker.in/property/pg/pg-hostel-for-boys-in-miyapur-hyderabad-for-rs-6000/8a9faa8897810a2a019781216359040c/detail\n",
      "Scraped 20 rows for Miyapur\n"
     ]
    }
   ],
   "source": [
    "Miyapur_df = scrape_location_links_to_df(\"Miyapur\", pg_data)\n",
    "Miyapur_df.to_csv(\"pg_data_Miyapur.csv\", index=False)"
   ]
  },
  {
   "cell_type": "code",
   "execution_count": 14,
   "id": "84b4ffcb-edae-4fbd-a9eb-92af06374b81",
   "metadata": {
    "scrolled": true
   },
   "outputs": [
    {
     "name": "stdout",
     "output_type": "stream",
     "text": [
      "Scraping PGs for location: Begumpet (10 links)\n",
      "\n",
      "Scraping PG: https://www.nobroker.in/property/pg/pg-hostel-for-girls-in-begumpet-hyderabad-for-rs-5500/8a9f924390a4e5da0190a5576be52260/detail\n",
      "\n",
      "Scraping PG: https://www.nobroker.in/property/pg/pg-hostel-for-boys-in-begumpet-hyderabad-for-rs-7000/8a9fc782827d0f4101827d8ee8e057e0/detail\n",
      "\n",
      "Scraping PG: https://www.nobroker.in/property/pg/pg-hostel-for-girls-in-begumpet-hyderabad-for-rs-6500/8a9fac8597d0038c0197d04fad231d07/detail\n",
      "\n",
      "Scraping PG: https://www.nobroker.in/property/pg/pg-hostel-for-boys-in-begumpet-hyderabad-for-rs-7000/8a9f99838eff795d018eff9f4019156f/detail\n",
      "\n",
      "Scraping PG: https://www.nobroker.in/property/pg/pg-hostel-for-boys-in-begumpet-hyderabad-for-rs-8000/8a9fb38d7ddb9b67017ddbb4d8b60fee/detail\n",
      "\n",
      "Scraping PG: https://www.nobroker.in/property/pg/pg-hostel-for-girls-in--begumpet-hyderabad-for-rs-5300/8a9f868492655cff0192658302110b4a/detail\n",
      "\n",
      "Scraping PG: https://www.nobroker.in/property/pg/pg-hostel-for-girls-in-begumpet-hyderabad-for-rs-6500/8a9f8a85974ed8b001974f3549cd295f/detail\n",
      "\n",
      "Scraping PG: https://www.nobroker.in/property/pg/pg-hostel-for-boys-in-begumpet-hyderabad-for-rs-7500/8a9fb28393e799c70193e7c29bd30fbf/detail\n",
      "\n",
      "Scraping PG: https://www.nobroker.in/property/pg/pg-hostel-for-boys-in-begumpet-hyderabad-for-rs-4500/8a9fb38395c162f80195c1bdfa8c2e76/detail\n",
      "Error scraping link:\n",
      "https://www.nobroker.in/property/pg/pg-hostel-for-boys-in-begumpet-hyderabad-for-rs-4500/8a9fb38395c162f80195c1bdfa8c2e76/detail\n",
      "response body:\n",
      "I/O error\n",
      "request url:\n",
      "https://googlechromelabs.github.io/chrome-for-testing/latest-patch-versions-per-build.json\n",
      "response headers:\n",
      "{'Connection': 'keep-alive', 'Content-Length': '9', 'content-type': 'text/plain; charset=utf-8', 'x-served-by': 'cache-maa10220'}\n",
      "\n",
      "\n",
      "Scraping PG: https://www.nobroker.in/property/pg/pg-hostel-for-boys-in-begumpet--hyderabad-for-rs-5900/8a9fb6827e6b5b48017e6bf81a4d4a3e/detail\n",
      "Scraped 18 rows for Begumpet\n"
     ]
    }
   ],
   "source": [
    "Begumpet_df = scrape_location_links_to_df(\"Begumpet\", pg_data)\n",
    "Begumpet_df.to_csv(\"pg_data_Begumpet.csv\", index=False)"
   ]
  },
  {
   "cell_type": "code",
   "execution_count": 15,
   "id": "54ca5398-3b04-4c9d-b076-d57fd9bef98b",
   "metadata": {
    "scrolled": true
   },
   "outputs": [
    {
     "name": "stdout",
     "output_type": "stream",
     "text": [
      "Scraping PGs for location: Ameerpet (44 links)\n",
      "\n",
      "Scraping PG: https://www.nobroker.in/property/pg/pg-hostel-for-girls-in-ameerpet-hyderabad-for-rs-5500/8a9f87038dbb47b2018dbc2644682c83/detail\n",
      "\n",
      "Scraping PG: https://www.nobroker.in/property/pg/pg-hostel-for-girls-in-ameerpet-hyderabad-for-rs-8800/8a9f8bc492d25e5b0192d2bb00a01a7b/detail\n",
      "\n",
      "Scraping PG: https://www.nobroker.in/property/pg/pg-hostel-for-boys-in-ameerpet--hyderabad-for-rs-8000/8a9f9484974d10cd01974d84d2f00ab6/detail\n",
      "\n",
      "Scraping PG: https://www.nobroker.in/property/pg/pg-hostel-for-boys-in-ameerpet-hyderabad-for-rs-5500/ff8081816b646993016b64e5c70c68b8/detail\n",
      "\n",
      "Scraping PG: https://www.nobroker.in/property/pg/pg-hostel-for-boys-in-ameerpet-hyderabad-for-rs-7500/8a9f822c760496c5017604c351930bd2/detail\n",
      "\n",
      "Scraping PG: https://www.nobroker.in/property/pg/pg-hostel-for-boys-in-ameerpet-hyderabad-for-rs-5200/8a9fa982787e17e201787e32e8940921/detail\n",
      "\n",
      "Scraping PG: https://www.nobroker.in/property/pg/pg-hostel-for-girls-in-ameerpet-hyderabad-for-rs-5200/8a9f84838e11ef59018e127595956840/detail\n",
      "\n",
      "Scraping PG: https://www.nobroker.in/property/pg/pg-hostel-for-girls-in-ameerpet-hyderabad-for-rs-5200/8a9fb1848b88b840018b899a83c37ee5/detail\n",
      "\n",
      "Scraping PG: https://www.nobroker.in/property/pg/pg-hostel-for-girls-in-ameerpet-hyderabad-for-rs-5500/8a9fb2827895ea4b0178966a198e5935/detail\n",
      "\n",
      "Scraping PG: https://www.nobroker.in/property/pg/pg-hostel-for-girls-in-ameerpet-hyderabad-for-rs-5500/8a9ff48286ee97780186ef19c3534f41/detail\n",
      "\n",
      "Scraping PG: https://www.nobroker.in/property/pg/pg-hostel-for-boys-in-ameerpet-hyderabad-for-rs-5500/8a9f92038eb15dac018eb198b7571194/detail\n",
      "\n",
      "Scraping PG: https://www.nobroker.in/property/pg/pg-hostel-for-boys-in-ameerpet-hyderabad-for-rs-10000/8a9fc38281a3f9050181a46d8b96507a/detail\n",
      "\n",
      "Scraping PG: https://www.nobroker.in/property/pg/pg-hostel-for-girls-in-ameerpet-hyderabad-for-rs-5500/8a9f880491b72b5d0191b779e93224da/detail\n",
      "\n",
      "Scraping PG: https://www.nobroker.in/property/pg/pg-hostel-for-boys-in-ameerpet-hyderabad-for-rs-null/8a9f8585977e05ee01977e0f09640249/detail\n",
      "\n",
      "Scraping PG: https://www.nobroker.in/property/pg/pg-hostel-for-boys-in-ameerpet-hyderabad-for-rs-5000/ff8081816b6eeb4a016b6efbc5cb07db/detail\n",
      "\n",
      "Scraping PG: https://www.nobroker.in/property/pg/pg-hostel-for-girls-in-ameerpet-hyderabad-for-rs-5000/8a9fb28494b0e6950194b11976391387/detail\n",
      "\n",
      "Scraping PG: https://www.nobroker.in/property/pg/pg-hostel-for-girls-in--ameerpet-hyderabad-for-rs-5500/8a9f9243903f30a201903f8ab0dd26c3/detail\n",
      "\n",
      "Scraping PG: https://www.nobroker.in/property/pg/pg-hostel-for-boys-in-ameerpet-hyderabad-for-rs-5800/8a9fd88285ab0d050185ab3c304c1964/detail\n",
      "\n",
      "Scraping PG: https://www.nobroker.in/property/pg/pg-hostel-for-boys-in-ameerpet-hyderabad-for-rs-null/8a9f8b039120ec7b0191215211c32830/detail\n",
      "\n",
      "Scraping PG: https://www.nobroker.in/property/pg/pg-hostel-for-boys-in-ameerpet-hyderabad-for-rs-5000/8a9f948278dfedea0178dfff3e1f0553/detail\n",
      "\n",
      "Scraping PG: https://www.nobroker.in/property/pg/pg-hostel-for-girls-in-ameerpet-hyderabad-for-rs-15000/8a9fbf82804a4aa501804ab930383a32/detail\n",
      "\n",
      "Scraping PG: https://www.nobroker.in/property/pg/pg-hostel-for-boys-in-ameerpet-hyderabad-for-rs-5800/8a9ff2828595fc4f01859602328d006a/detail\n",
      "\n",
      "Scraping PG: https://www.nobroker.in/property/pg/pg-hostel-for-girls-in-ameerpet-hyderabad-for-rs-5500/8a9f9b84971b6ea701971b8708ce09a7/detail\n",
      "\n",
      "Scraping PG: https://www.nobroker.in/property/pg/pg-hostel-for-girls-in-ameerpet-hyderabad-for-rs-5300/8a9f94849776b1610197772152801c54/detail\n",
      "\n",
      "Scraping PG: https://www.nobroker.in/property/pg/pg-hostel-for-boys-in-ameerpet-hyderabad-for-rs-6000/ff8081816d0480d3016d05400a6b5533/detail\n",
      "\n",
      "Scraping PG: https://www.nobroker.in/property/pg/pg-hostel-for-girls-in-ameerpet-hyderabad-for-rs-5400/ff8081816d0ab81b016d0b84217b1019/detail\n",
      "\n",
      "Scraping PG: https://www.nobroker.in/property/pg/pg-hostel-for-boys-in--ameerpet-hyderabad-for-rs-5500/8a9f9a838bc7bf17018bc86c93800ea7/detail\n",
      "\n",
      "Scraping PG: https://www.nobroker.in/property/pg/pg-hostel-for-boys-in-ameerpet-hyderabad-for-rs-5000/8a9f84c39399ec8701939a52885a19f7/detail\n",
      "\n",
      "Scraping PG: https://www.nobroker.in/property/pg/pg-hostel-for-boys-in-ameerpet-hyderabad-for-rs-8000/8a9f97827db99576017dc705086c2e04/detail\n",
      "\n",
      "Scraping PG: https://www.nobroker.in/property/pg/pg-hostel-for-boys-in-ameerpet-hyderabad-for-rs-5000/8a9fcc838b1c83f9018b1cef846f1b55/detail\n",
      "\n",
      "Scraping PG: https://www.nobroker.in/property/pg/pg-hostel-for-boys-in-ameerpet-hyderabad-for-rs-6000/8a9fc382826e110801826e1aeb950387/detail\n",
      "\n",
      "Scraping PG: https://www.nobroker.in/property/pg/pg-hostel-for-girls-in-ameerpet-hyderabad-for-rs-5300/8a9f848a971f336001971f9772881c7d/detail\n",
      "\n",
      "Scraping PG: https://www.nobroker.in/property/pg/pg-hostel-for-girls-in-ameerpet-hyderabad-for-rs-6000/8a9fa782859e5a8c01859ee5b612176f/detail\n",
      "\n",
      "Scraping PG: https://www.nobroker.in/property/pg/pg-hostel-for-girls-in-ameerpet-hyderabad-for-rs-2500/8a9f88438de9a181018de9ce82c12446/detail\n",
      "\n",
      "Scraping PG: https://www.nobroker.in/property/pg/pg-hostel-for-girls-in-ameerpet-hyderabad-for-rs-5300/8a9ffb8286017d52018601f37aa85a9a/detail\n",
      "\n",
      "Scraping PG: https://www.nobroker.in/property/pg/pg-hostel-for-girls-in-ameerpet-hyderabad-for-rs-5500/8a9fbb827fb63bde017fb6a6044641e0/detail\n",
      "\n",
      "Scraping PG: https://www.nobroker.in/property/pg/pg-hostel-for-boys-in-ameerpet-hyderabad-for-rs-5500/8a9fcc82846fcced018470317dd95ac9/detail\n",
      "\n",
      "Scraping PG: https://www.nobroker.in/property/pg/pg-hostel-for-girls-in-ameerpet-hyderabad-for-rs-5200/8a9ffd8287883cf601878895723a4085/detail\n",
      "\n",
      "Scraping PG: https://www.nobroker.in/property/pg/pg-hostel-for-boys-in-ameerpet-hyderabad-for-rs-5500/ff8081816b6eeb4a016b6ef5c5460521/detail\n",
      "\n",
      "Scraping PG: https://www.nobroker.in/property/pg/pg-hostel-for-boys-in-ameerpet-hyderabad-for-rs-5000/8a9fa784962f066301962f247b220c62/detail\n",
      "\n",
      "Scraping PG: https://www.nobroker.in/property/pg/pg-hostel-for-boys-in-ameerpet-hyderabad-for-rs-6000/8a9f910492ade9d10192adf3247b024f/detail\n",
      "\n",
      "Scraping PG: https://www.nobroker.in/property/pg/pg-hostel-for-boys-in-ameerpet-hyderabad-for-rs-5500/8a9f9b84971f935e019720106a723751/detail\n",
      "\n",
      "Scraping PG: https://www.nobroker.in/property/pg/pg-hostel-for-girls-in-ameerpet-hyderabad-for-rs-5000/8a9f93859777279901977775bf1920db/detail\n",
      "\n",
      "Scraping PG: https://www.nobroker.in/property/pg/pg-hostel-for-boys-in-ameerpet-hyderabad-for-rs-5000/8a9faa8395efbca50195eff274c6139d/detail\n",
      "Scraped 54 rows for Ameerpet\n"
     ]
    }
   ],
   "source": [
    "Ameerpet_df = scrape_location_links_to_df(\"Ameerpet\", pg_data)\n",
    "Ameerpet_df.to_csv(\"pg_data_Ameerpet.csv\", index=False)"
   ]
  },
  {
   "cell_type": "code",
   "execution_count": 16,
   "id": "91065212-7d14-400f-8e24-bdc0c81ca624",
   "metadata": {
    "scrolled": true
   },
   "outputs": [
    {
     "name": "stdout",
     "output_type": "stream",
     "text": [
      "Scraping PGs for location: Uppal (35 links)\n",
      "\n",
      "Scraping PG: https://www.nobroker.in/property/pg/pg-hostel-for-boys-in-uppal-hyderabad-for-rs-4500/8a9fae83941b877601941be3ae1a220d/detail\n",
      "\n",
      "Scraping PG: https://www.nobroker.in/property/pg/pg-hostel-for-boys-in-uppal-hyderabad-for-rs-6000/8a9f8483939184660193919b0a7a086d/detail\n",
      "\n",
      "Scraping PG: https://www.nobroker.in/property/pg/pg-hostel-for-boys-in-uppal-hyderabad-for-rs-8000/8a9f82bb712a381d01712ba7eac04789/detail\n",
      "\n",
      "Scraping PG: https://www.nobroker.in/property/pg/pg-hostel-for-boys-in-uppal-hyderabad-for-rs-null/8a9fa78b9777277c01977758f32e1351/detail\n",
      "\n",
      "Scraping PG: https://www.nobroker.in/property/pg/pg-hostel-for-girls-in-uppal-hyderabad-for-rs-4600/ff8081816db8bf01016db9180f091b56/detail\n",
      "\n",
      "Scraping PG: https://www.nobroker.in/property/pg/pg-hostel-for-girls-in-uppal-hyderabad-for-rs-6500/8a9f81ba6f6bb506016f6bb6c2540011/detail\n",
      "\n",
      "Scraping PG: https://www.nobroker.in/property/pg/pg-hostel-for-boys-in-uppal-hyderabad-for-rs-5000/8a9f8d8897d4537b0197d479baef0b49/detail\n",
      "\n",
      "Scraping PG: https://www.nobroker.in/property/pg/pg-hostel-for-boys-in-uppal-hyderabad-for-rs-6500/ff8081816e6f08a8016e6f6f32be4086/detail\n",
      "\n",
      "Scraping PG: https://www.nobroker.in/property/pg/pg-hostel-for-girls-in-uppal-hyderabad-for-rs-6200/8a9fbb92952c098f01952c4561d71a05/detail\n",
      "\n",
      "Scraping PG: https://www.nobroker.in/property/pg/pg-hostel-for-boys-in-uppal-hyderabad-for-rs-4500/8a9f87038d7c31d5018d7d1f1bea0b56/detail\n",
      "\n",
      "Scraping PG: https://www.nobroker.in/property/pg/pg-hostel-for-girls-in--uppal-hyderabad-for-rs-0/ff8081816c187c2f016c18a6c3f52e61/detail\n",
      "\n",
      "Scraping PG: https://www.nobroker.in/property/pg/pg-hostel-for-girls-in-uppal-hyderabad-for-rs-5500/ff8081816bd68092016bd707103d01c7/detail\n",
      "\n",
      "Scraping PG: https://www.nobroker.in/property/pg/pg-hostel-for-girls-in-uppal-hyderabad-for-rs-4500/8a9fa2838bb84cca018bb8f5a7e97963/detail\n",
      "\n",
      "Scraping PG: https://www.nobroker.in/property/pg/pg-hostel-for-boys-in-uppal-hyderabad-for-rs-5000/8a9f85838d78aa21018d78e8df9431cc/detail\n",
      "\n",
      "Scraping PG: https://www.nobroker.in/property/pg/pg-hostel-for-girls-in--uppal-hyderabad-for-rs-5500/8a9f92038f61517f018f619999a42463/detail\n",
      "\n",
      "Scraping PG: https://www.nobroker.in/property/pg/pg-hostel-for-girls-in--uppal-hyderabad-for-rs-4500/8a9f94838ba78f4e018ba86a8081274e/detail\n",
      "\n",
      "Scraping PG: https://www.nobroker.in/property/pg/pg-hostel-for-boys-in-uppal-hyderabad-for-rs-5000/8a9f8bc3925131820192519cdd862265/detail\n",
      "\n",
      "Scraping PG: https://www.nobroker.in/property/pg/pg-hostel-for-girls-in--uppal-hyderabad-for-rs-5500/8a9f8d839517df5d019518026c750eab/detail\n",
      "\n",
      "Scraping PG: https://www.nobroker.in/property/pg/pg-hostel-for-boys-in-uppal-hyderabad-for-rs-5500/8a9f84438dd8e431018dd9cac4f616d9/detail\n",
      "\n",
      "Scraping PG: https://www.nobroker.in/property/pg/pg-hostel-for-girls-in-uppal-hyderabad-for-rs-5000/8a9f85928f61c1ba018f620cbb0c296d/detail\n",
      "\n",
      "Scraping PG: https://www.nobroker.in/property/pg/pg-hostel-for-girls-in-uppal-hyderabad-for-rs-4500/8a9fb0849786924b019786d8978f1931/detail\n",
      "\n",
      "Scraping PG: https://www.nobroker.in/property/pg/pg-hostel-for-girls-in-uppal-hyderabad-for-rs-8000/8a9f82038f61bef3018f621a403831f7/detail\n",
      "\n",
      "Scraping PG: https://www.nobroker.in/property/pg/pg-hostel-for-boys-in--uppal-hyderabad-for-rs-5500/8a9f87038d7c31d5018d7d2e656e1903/detail\n",
      "\n",
      "Scraping PG: https://www.nobroker.in/property/pg/pg-hostel-for-boys-in-uppal-hyderabad-for-rs-4500/8a9f930493d9de3c0193da2430b216d9/detail\n",
      "\n",
      "Scraping PG: https://www.nobroker.in/property/pg/pg-hostel-for-girls-in-uppal-hyderabad-for-rs-5100/8a9f8803915a000c01915a44c80c1e17/detail\n",
      "\n",
      "Scraping PG: https://www.nobroker.in/property/pg/pg-hostel-for-boys-in--uppal-hyderabad-for-rs-4500/8a9faf85971a075101971a35b6180998/detail\n",
      "\n",
      "Scraping PG: https://www.nobroker.in/property/pg/pg-hostel-for-girls-in--uppal-hyderabad-for-rs-5500/ff8081816c0e7c47016c0fa3b3596a6a/detail\n",
      "\n",
      "Scraping PG: https://www.nobroker.in/property/pg/pg-hostel-for-boys-in-uppal-hyderabad-for-rs-5500/8a9ff98284fa345e0184fab711886c7d/detail\n",
      "\n",
      "Scraping PG: https://www.nobroker.in/property/pg/pg-hostel-for-boys-in-uppal-hyderabad-for-rs-5500/8a9f8ec390b4c6e40190b51204281b7f/detail\n",
      "\n",
      "Scraping PG: https://www.nobroker.in/property/pg/pg-hostel-for-girls-in-uppal-hyderabad-for-rs-5500/8a9f84438dd8e431018dd9caaf5716c3/detail\n",
      "\n",
      "Scraping PG: https://www.nobroker.in/property/pg/pg-hostel-for-boys-in-uppal--hyderabad-for-rs-5000/8a9f8987970c49c001970caf88ac2b4c/detail\n",
      "\n",
      "Scraping PG: https://www.nobroker.in/property/pg/pg-hostel-for-girls-in-uppal-hyderabad-for-rs-6500/8a9fd33e860b240701860b5050bb1636/detail\n",
      "\n",
      "Scraping PG: https://www.nobroker.in/property/pg/pg-hostel-for-girls-in-uppal-hyderabad-for-rs-4500/8a9fad84941b8d3501941be3a84b1e16/detail\n",
      "\n",
      "Scraping PG: https://www.nobroker.in/property/pg/pg-hostel-for-girls-in-uppal-hyderabad-for-rs-5000/8a9fa785977c4bd201977c81ab2c1573/detail\n",
      "\n",
      "Scraping PG: https://www.nobroker.in/property/pg/pg-hostel-for-boys-in-uppal-hyderabad-for-rs-4500/8a9fc682865ed46801865f11b5a52a14/detail\n",
      "Scraped 44 rows for Uppal\n"
     ]
    }
   ],
   "source": [
    "Uppal_df = scrape_location_links_to_df(\"Uppal\", pg_data)\n",
    "Uppal_df.to_csv(\"pg_data_Uppal.csv\", index=False)"
   ]
  },
  {
   "cell_type": "code",
   "execution_count": 17,
   "id": "920c86a8-a982-473e-aa80-604b2f454477",
   "metadata": {
    "scrolled": true
   },
   "outputs": [
    {
     "name": "stdout",
     "output_type": "stream",
     "text": [
      "Scraping PGs for location: Somajiguda (16 links)\n",
      "\n",
      "Scraping PG: https://www.nobroker.in/property/pg/pg-hostel-for-boys-in-somajiguda-hyderabad-for-rs-5500/8a9f8c84976cd2bc01976d239f2627ac/detail\n",
      "\n",
      "Scraping PG: https://www.nobroker.in/property/pg/pg-hostel-for-boys-in-somajiguda-hyderabad-for-rs-5800/8a9f92c390cfd0260190d03171e332ce/detail\n",
      "\n",
      "Scraping PG: https://www.nobroker.in/property/pg/pg-hostel-for-girls-in-somajiguda-hyderabad-for-rs-6000/ff8081816ef48c30016ef531b1460373/detail\n",
      "\n",
      "Scraping PG: https://www.nobroker.in/property/pg/pg-hostel-for-girls-in-somajiguda-hyderabad-for-rs-8000/8a9f8a8393c31fea0193c3537abd0988/detail\n",
      "\n",
      "Scraping PG: https://www.nobroker.in/property/pg/pg-hostel-for-girls-in-somajiguda-hyderabad-for-rs-6500/8a9f9b8278ed72e30178ee183d434ee4/detail\n",
      "\n",
      "Scraping PG: https://www.nobroker.in/property/pg/pg-hostel-for-boys-in-somajiguda--hyderabad-for-rs-6500/8a9f028286ea85510186eab871fa1a9c/detail\n",
      "\n",
      "Scraping PG: https://www.nobroker.in/property/pg/pg-hostel-for-girls-in-somajiguda-hyderabad-for-rs-5500/8a9faf8394edd0690194edfdfae0074f/detail\n",
      "\n",
      "Scraping PG: https://www.nobroker.in/property/pg/pg-hostel-for-boys-in-somajiguda-hyderabad-for-rs-18000/8a9fa282795fb3fb0179600374d11eda/detail\n",
      "\n",
      "Scraping PG: https://www.nobroker.in/property/pg/pg-hostel-for-girls-in-somajiguda-hyderabad-for-rs-8000/8a9f871f71dabe400171dea9198c76b4/detail\n",
      "\n",
      "Scraping PG: https://www.nobroker.in/property/pg/pg-hostel-for-girls-in-somajiguda-hyderabad-for-rs-6500/ff8081816d47bcc2016d47fd38401dea/detail\n",
      "\n",
      "Scraping PG: https://www.nobroker.in/property/pg/pg-hostel-for-boys-in-somajiguda-hyderabad-for-rs-8000/8a9faf8697d45ac70197d48e87e90d79/detail\n",
      "\n",
      "Scraping PG: https://www.nobroker.in/property/pg/pg-hostel-for-girls-in-somajiguda-hyderabad-for-rs-5500/8a9f938279bb73b10179bbeb731433f2/detail\n",
      "\n",
      "Scraping PG: https://www.nobroker.in/property/pg/pg-hostel-for-girls-in-somajiguda-hyderabad-for-rs-5500/8a9f978279893b010179897e30721ad7/detail\n",
      "\n",
      "Scraping PG: https://www.nobroker.in/property/pg/pg-hostel-for-boys-in--somajiguda-hyderabad-for-rs-7000/ff8081816f087e8b016f08f02d5a18d0/detail\n",
      "\n",
      "Scraping PG: https://www.nobroker.in/property/pg/pg-hostel-for-boys-in-somajiguda-hyderabad-for-rs-6000/8a9f98827ddb290e017ddbaa864944ae/detail\n",
      "\n",
      "Scraping PG: https://www.nobroker.in/property/pg/pg-hostel-for-boys-in-somajiguda-hyderabad-for-rs-5000/8a9f908496f285550196f2c704661af8/detail\n",
      "Scraped 25 rows for Somajiguda\n"
     ]
    }
   ],
   "source": [
    "Somajiguda_df = scrape_location_links_to_df(\"Somajiguda\", pg_data)\n",
    "Somajiguda_df.to_csv(\"pg_data_Somajiguda.csv\", index=False)"
   ]
  },
  {
   "cell_type": "code",
   "execution_count": 18,
   "id": "ed574942-8a0c-4bb3-85b9-5fd191c6b296",
   "metadata": {
    "scrolled": true
   },
   "outputs": [
    {
     "name": "stdout",
     "output_type": "stream",
     "text": [
      "Scraping PGs for location: Banjara Hills (11 links)\n",
      "\n",
      "Scraping PG: https://www.nobroker.in/property/pg/pg-hostel-for-boys-in-banjara-hills-hyderabad-for-rs-8000/8a9fb7827a4c4c71017a4c711e81190c/detail\n",
      "\n",
      "Scraping PG: https://www.nobroker.in/property/pg/pg-hostel-for-anyone-in-banjara-hills-hyderabad-for-rs-8000/8a9f8b838f3e8e93018f3efc9b5a35c3/detail\n",
      "\n",
      "Scraping PG: https://www.nobroker.in/property/pg/pg-hostel-for-boys-in-banjara-hills-hyderabad-for-rs-8500/8a9f917975876a60017587a3188721f3/detail\n",
      "\n",
      "Scraping PG: https://www.nobroker.in/property/pg/pg-hostel-for-boys-in-banjara-hills--hyderabad-for-rs-6500/8a9f96828542f1c401854380da2d739e/detail\n",
      "\n",
      "Scraping PG: https://www.nobroker.in/property/pg/pg-hostel-for-girls-in-banjara-hills-hyderabad-for-rs-8000/8a9f9e038ebc6a63018ebc73ce4302d6/detail\n",
      "\n",
      "Scraping PG: https://www.nobroker.in/property/pg/pg-hostel-for-girls-in--banjara-hills-hyderabad-for-rs-6500/8a9fb38497b5c7640197b636255b4b98/detail\n",
      "\n",
      "Scraping PG: https://www.nobroker.in/property/pg/pg-hostel-for-anyone-in-46a-lane-no--12-venkateswara-colony-banjara-hills-hyderabad-telangana-500034-india-hyderabad-for-rs-28000/8a9fc48281662d1a01816640e41c0bc4/detail\n",
      "\n",
      "Scraping PG: https://www.nobroker.in/property/pg/pg-hostel-for-anyone-in-banjara-hills-hyderabad-for-rs-null/8a9f8b8597688e4301976901c5492e08/detail\n",
      "\n",
      "Scraping PG: https://www.nobroker.in/property/pg/pg-hostel-for-boys-in--banjara-hills-hyderabad-for-rs-6500/8a9fbe827ff92eb1017ff93f565907cb/detail\n",
      "\n",
      "Scraping PG: https://www.nobroker.in/property/pg/pg-hostel-for-anyone-in-banjara-hills-hyderabad-for-rs-13000/8a9fa285975991c0019759cb89cd169f/detail\n",
      "\n",
      "Scraping PG: https://www.nobroker.in/property/pg/pg-hostel-for-girls-in--banjara-hills-hyderabad-for-rs-10000/8a9fcf828616bb6701861708b4d53607/detail\n",
      "Scraped 15 rows for Banjara Hills\n"
     ]
    }
   ],
   "source": [
    "Banjara_Hills_df = scrape_location_links_to_df(\"Banjara Hills\", pg_data)\n",
    "Banjara_Hills_df.to_csv(\"pg_data_Banjara_Hills.csv\", index=False)"
   ]
  },
  {
   "cell_type": "code",
   "execution_count": 19,
   "id": "1775aa51-0234-40c3-9ab8-6194084c8f30",
   "metadata": {},
   "outputs": [],
   "source": [
    "all_dfs = [madhapur_df, Gachibowli_df, Kondapur_df, Manikonda_df, Miyapur_df, Begumpet_df, Ameerpet_df, \n",
    " Uppal_df, Somajiguda_df, Banjara_Hills_df]"
   ]
  },
  {
   "cell_type": "code",
   "execution_count": 20,
   "id": "b65ee2c4-2c46-47b1-b900-0f2a1bf6bf2c",
   "metadata": {},
   "outputs": [],
   "source": [
    "merged_df = pd.concat(all_dfs, ignore_index=True)"
   ]
  },
  {
   "cell_type": "code",
   "execution_count": 21,
   "id": "b42db9e5-7dde-47eb-b26b-7d41081a2ef4",
   "metadata": {},
   "outputs": [],
   "source": [
    "merged_df.to_csv(\"all_pg_locations_data.csv\", index=False)"
   ]
  },
  {
   "cell_type": "code",
   "execution_count": 22,
   "id": "cbda18b7-2a86-422e-bc51-4f6aab483694",
   "metadata": {},
   "outputs": [
    {
     "data": {
      "text/plain": [
       "(333, 11)"
      ]
     },
     "execution_count": 22,
     "metadata": {},
     "output_type": "execute_result"
    }
   ],
   "source": [
    "merged_df.shape"
   ]
  },
  {
   "cell_type": "code",
   "execution_count": 1,
   "id": "acacb3b5-4f2e-4752-a606-21d4a65d43fc",
   "metadata": {},
   "outputs": [],
   "source": [
    "# import pandas as pd\n",
    "\n",
    "# # List of location names in order\n",
    "# location_names = [\n",
    "#     \"madhapur\", \"Gachibowli\", \"Kondapur\", \"Manikonda\", \"Miyapur\",\n",
    "#     \"Begumpet\", \"Ameerpet\", \"Uppal\", \"Somajiguda\", \"Banjara_Hills\"\n",
    "# ]\n",
    "\n",
    "# # Merge them\n",
    "# location_dfs = []\n",
    "# for name in location_names:\n",
    "#     path = f\"pg_data_{name}.csv\"\n",
    "#     df = pd.read_csv(path)\n",
    "#     location_dfs.append(df)\n",
    "\n",
    "# # Concatenate all into one final DataFrame\n",
    "# merged_location_df = pd.concat(location_dfs, ignore_index=True)\n",
    "\n",
    "# # Save it if needed\n",
    "# merged_location_df.to_csv(\"all_pg_locations_data_remerged.csv\", index=False)\n"
   ]
  },
  {
   "cell_type": "code",
   "execution_count": null,
   "id": "651767de-d787-453e-b657-b07ecb1eb33a",
   "metadata": {},
   "outputs": [],
   "source": [
    "merged_df.to_csv(\"pg_data.csv\", index=False)"
   ]
  }
 ],
 "metadata": {
  "kernelspec": {
   "display_name": "Python 3 (ipykernel)",
   "language": "python",
   "name": "python3"
  },
  "language_info": {
   "codemirror_mode": {
    "name": "ipython",
    "version": 3
   },
   "file_extension": ".py",
   "mimetype": "text/x-python",
   "name": "python",
   "nbconvert_exporter": "python",
   "pygments_lexer": "ipython3",
   "version": "3.12.4"
  }
 },
 "nbformat": 4,
 "nbformat_minor": 5
}
